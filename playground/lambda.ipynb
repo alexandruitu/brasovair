{
 "cells": [
  {
   "cell_type": "code",
   "execution_count": 1,
   "metadata": {},
   "outputs": [],
   "source": [
    "import json\n",
    "import urllib.request\n",
    "import pandas as pd\n",
    "from pyproj import Proj, transform"
   ]
  },
  {
   "cell_type": "code",
   "execution_count": 3,
   "metadata": {},
   "outputs": [],
   "source": [
    "def LatLon_to_EN(lat, lon):\n",
    "    try:\n",
    "      easting, northing = transform( Proj('epsg:4326'), Proj('epsg:3857'), lat, lon) # from WGS-84 to Web Mercator Easting/Northing\n",
    "      return easting, northing\n",
    "    except:\n",
    "      return None, None   "
   ]
  },
  {
   "cell_type": "code",
   "execution_count": 4,
   "metadata": {},
   "outputs": [],
   "source": [
    "def insert(df, row):\n",
    "    insert_loc = df.index.max()\n",
    "\n",
    "    if pd.isna(insert_loc):\n",
    "        df.loc[0] = row\n",
    "    else:\n",
    "        df.loc[insert_loc + 1] = row"
   ]
  },
  {
   "cell_type": "code",
   "execution_count": 25,
   "metadata": {},
   "outputs": [
    {
     "data": {
      "text/plain": [
       "'[{\"deviceid\": \"1600009B\", \"latitude\": 45.653509, \"longitude\": 25.56612, \"eastern\": 2846007.4599597272, \"northern\": 5724996.5941273, \"pm1\": 16, \"pm25\": 21, \"pm10\": 25, \"temperature\": \"13.36\"}, {\"deviceid\": \"160000A7\", \"latitude\": 45.704032, \"longitude\": 25.640955, \"eastern\": 2854338.0540532423, \"northern\": 5733046.333381937, \"pm1\": 16, \"pm25\": 21, \"pm10\": 25, \"temperature\": \"13.36\"}, {\"deviceid\": \"160000A9\", \"latitude\": 45.6568, \"longitude\": 25.5917, \"eastern\": 2848855.0125342193, \"northern\": 5725520.722051452, \"pm1\": 16, \"pm25\": 21, \"pm10\": 25, \"temperature\": \"13.36\"}, {\"deviceid\": \"160000C3\", \"latitude\": 45.6536, \"longitude\": 25.599, \"eastern\": 2849667.64481701, \"northern\": 5725011.086463493, \"pm1\": 16, \"pm25\": 21, \"pm10\": 25, \"temperature\": \"13.36\"}, {\"deviceid\": \"82000169\", \"latitude\": 45.645893, \"longitude\": 25.599471, \"eastern\": 2849720.0762971737, \"northern\": 5723783.780513774, \"pm1\": 16, \"pm25\": 21, \"pm10\": 25, \"temperature\": \"13.36\"}]'"
      ]
     },
     "execution_count": 25,
     "metadata": {},
     "output_type": "execute_result"
    }
   ],
   "source": [
    "bv_devices_id = ['82000169', '160000C3', '160000A9', '1600009B', '160000A7'] \n",
    "static_sensor_data = [{'deviceid': '1600009B',\n",
    "  'latitude': 45.653509,\n",
    "  'longitude': 25.56612,\n",
    "  'eastern': 2846007.4599597272,\n",
    "  'northern': 5724996.5941273},\n",
    " {'deviceid': '160000A7',\n",
    "  'latitude': 45.704032,\n",
    "  'longitude': 25.640955,\n",
    "  'eastern': 2854338.0540532423,\n",
    "  'northern': 5733046.333381937},\n",
    " {'deviceid': '160000A9',\n",
    "  'latitude': 45.6568,\n",
    "  'longitude': 25.5917,\n",
    "  'eastern': 2848855.0125342193,\n",
    "  'northern': 5725520.722051452},\n",
    " {'deviceid': '160000C3',\n",
    "  'latitude': 45.6536,\n",
    "  'longitude': 25.599,\n",
    "  'eastern': 2849667.64481701,\n",
    "  'northern': 5725011.086463493},\n",
    " {'deviceid': '82000169',\n",
    "  'latitude': 45.645893,\n",
    "  'longitude': 25.599471,\n",
    "  'eastern': 2849720.0762971737,\n",
    "  'northern': 5723783.780513774}]\n",
    "\n",
    "opener = urllib.request.build_opener()\n",
    "opener.addheaders = [(\"X-User-id\", \"www\"), (\"X-User-hash\", \"global\")]\n",
    "devices = opener.open('https://data.uradmonitor.com/api/v1/devices')\n",
    "\n",
    "devices_list = json.loads(f'{devices.read().decode(\"utf-8\")}')\n",
    "bv_sensor_data = pd.DataFrame(columns = ['deviceid', 'pm1', 'pm25', 'pm10', 'latitude', 'longitude', 'eastern', 'northern', 'temperature'])\n",
    "for device in devices_list:\n",
    "    if device['id'] in bv_devices_id:\n",
    "        #E, N = LatLon_to_EN(device['latitude'], device['longitude'])\n",
    "        #insert(bv_sensor_data, [device['id'], int(device['avg_pm1']), int(device['avg_pm25']), int(device['avg_pm10']), device['latitude'], device['longitude'], E, N, device['avg_temperature']])\n",
    "        for sensor_data in static_sensor_data:\n",
    "            sensor_data.update({'pm1': int(device['avg_pm1']), 'pm25': int(device['avg_pm25']), 'pm10': int(device['avg_pm10']), 'temperature': device['avg_temperature']})\n",
    "\n",
    "json.dumps(static_sensor_data)"
   ]
  },
  {
   "cell_type": "code",
   "execution_count": null,
   "metadata": {},
   "outputs": [],
   "source": []
  }
 ],
 "metadata": {
  "kernelspec": {
   "display_name": "Python 3",
   "language": "python",
   "name": "python3"
  },
  "language_info": {
   "codemirror_mode": {
    "name": "ipython",
    "version": 3
   },
   "file_extension": ".py",
   "mimetype": "text/x-python",
   "name": "python",
   "nbconvert_exporter": "python",
   "pygments_lexer": "ipython3",
   "version": "3.7.2"
  }
 },
 "nbformat": 4,
 "nbformat_minor": 4
}
