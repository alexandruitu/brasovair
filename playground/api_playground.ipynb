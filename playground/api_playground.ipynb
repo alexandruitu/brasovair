{
 "cells": [
  {
   "cell_type": "code",
   "execution_count": 27,
   "metadata": {},
   "outputs": [],
   "source": [
    "import requests\n",
    "import json"
   ]
  },
  {
   "cell_type": "code",
   "execution_count": 28,
   "metadata": {},
   "outputs": [],
   "source": [
    "# request headers for the subscription\n",
    "headers = {\"X-User-id\": \"6278\", \"X-User-hash\":\"a235942bff158e1027d455a9d36d2fa3\"}"
   ]
  },
  {
   "cell_type": "code",
   "execution_count": 54,
   "metadata": {},
   "outputs": [],
   "source": [
    "def make_uradmonitor_request(url: str, headers):\n",
    "    response = requests.get(url, headers = headers)\n",
    "    try:\n",
    "        response_json = json.loads(response.content.decode(\"utf-8\"))\n",
    "    except Exception as e:\n",
    "        print (e)\n",
    "        return str(e)\n",
    "\n",
    "    return response_json\n",
    "    "
   ]
  },
  {
   "cell_type": "markdown",
   "metadata": {},
   "source": [
    "### 1. Get devices list"
   ]
  },
  {
   "cell_type": "code",
   "execution_count": 55,
   "metadata": {},
   "outputs": [],
   "source": [
    "devices_list = make_uradmonitor_request('https://data.uradmonitor.com/api/v1/devices', headers = headers)"
   ]
  },
  {
   "cell_type": "code",
   "execution_count": 80,
   "metadata": {},
   "outputs": [
    {
     "data": {
      "text/plain": [
       "[{'id': '4100000A',\n",
       "  'timefirst': '1443263535',\n",
       "  'timelast': '1565548127',\n",
       "  'timelocal': '334740',\n",
       "  'latitude': 47.677425,\n",
       "  'longitude': 22.475179,\n",
       "  'altitude': 105.1,\n",
       "  'speed': 0,\n",
       "  'city': 'Carei',\n",
       "  'country': 'RO',\n",
       "  'versionsw': '126',\n",
       "  'versionhw': '100',\n",
       "  'status': None,\n",
       "  'mobile': None,\n",
       "  'detector': 'SBM20',\n",
       "  'factor': 0.006315,\n",
       "  'note': '',\n",
       "  'picture': None,\n",
       "  'avg_timelocal': '291540',\n",
       "  'avg_temperature': '26.98',\n",
       "  'avg_pressure': '100071',\n",
       "  'avg_cpm': '21',\n",
       "  'avg_voltage': '380.14',\n",
       "  'avg_duty': '557.86'},\n",
       " {'id': '82000034',\n",
       "  'timefirst': '1476731292',\n",
       "  'timelast': '1578441886',\n",
       "  'timelocal': '21780',\n",
       "  'latitude': 46.082265,\n",
       "  'longitude': 23.574969,\n",
       "  'altitude': 232.9,\n",
       "  'speed': 0.01,\n",
       "  'city': 'Alba Iulia',\n",
       "  'country': 'RO',\n",
       "  'versionsw': '122',\n",
       "  'versionhw': '103',\n",
       "  'status': None,\n",
       "  'mobile': '1',\n",
       "  'detector': 'SI29BG',\n",
       "  'factor': 0.01,\n",
       "  'note': '',\n",
       "  'picture': None,\n",
       "  'avg_timelocal': '10950',\n",
       "  'avg_temperature': '-3.12',\n",
       "  'avg_pressure': '100613',\n",
       "  'avg_humidity': '60.91',\n",
       "  'avg_voc': '934536',\n",
       "  'min_voc': '717087',\n",
       "  'max_voc': '1156004',\n",
       "  'avg_vocaqi': '252.28',\n",
       "  'avg_co2': '627',\n",
       "  'avg_ch2o': '0',\n",
       "  'avg_pm1': '49',\n",
       "  'avg_pm25': '62',\n",
       "  'avg_pm10': '83',\n",
       "  'avg_noise': '0.00',\n",
       "  'avg_cpm': '10',\n",
       "  'avg_voltage': '381.55',\n",
       "  'avg_duty': '193.64'}]"
      ]
     },
     "execution_count": 80,
     "metadata": {},
     "output_type": "execute_result"
    }
   ],
   "source": [
    "devices_list"
   ]
  },
  {
   "cell_type": "markdown",
   "metadata": {},
   "source": [
    "### 2. Get device sensors list"
   ]
  },
  {
   "cell_type": "code",
   "execution_count": 89,
   "metadata": {},
   "outputs": [],
   "source": [
    "devices_id = [device['id'] for device in devices_list ]"
   ]
  },
  {
   "cell_type": "code",
   "execution_count": 65,
   "metadata": {},
   "outputs": [],
   "source": [
    "available_sensors = [make_uradmonitor_request(f'https://data.uradmonitor.com/api/v1/devices/{id}', headers = headers) for id in devices_id]"
   ]
  },
  {
   "cell_type": "markdown",
   "metadata": {},
   "source": [
    "### 3. Get detailed device data"
   ]
  },
  {
   "cell_type": "code",
   "execution_count": 81,
   "metadata": {},
   "outputs": [
    {
     "data": {
      "text/plain": [
       "{'timelocal': ['Timelocal', 's'],\n",
       " 'temperature': ['Temperature', '°C'],\n",
       " 'pressure': ['Pressure', 'Pa'],\n",
       " 'cpm': ['Radiation', 'cpm'],\n",
       " 'voltage': ['Voltage', 'V'],\n",
       " 'duty': ['Duty cycle', '‰'],\n",
       " 'all': ['All', '']}"
      ]
     },
     "execution_count": 81,
     "metadata": {},
     "output_type": "execute_result"
    }
   ],
   "source": [
    "start_interval = 600\n",
    "stop_interval = 480\n",
    "sensor_values = dict()\n",
    "for device_id in devices_id:\n",
    "    sensor_data = [make_uradmonitor_request(f'https://data.uradmonitor.com/api/v1/devices/{device_id}/{available_sensors data for ]\n",
    "    sensor_data = make_uradmonitor_request(f'https://data.uradmonitor.com/api/v1/devices/{device_id}/{available_sensors[0][\"temperature\"]}/{start_interval}/{stop_interval}',headers = headers)\n",
    "sensor_data"
   ]
  },
  {
   "cell_type": "code",
   "execution_count": 79,
   "metadata": {},
   "outputs": [
    {
     "name": "stdout",
     "output_type": "stream",
     "text": [
      "timelocal\n",
      "temperature\n",
      "pressure\n",
      "cpm\n",
      "voltage\n",
      "duty\n",
      "all\n"
     ]
    }
   ],
   "source": [
    "for key in available_sensors[0].keys():\n",
    "    print(key)"
   ]
  },
  {
   "cell_type": "code",
   "execution_count": 90,
   "metadata": {},
   "outputs": [
    {
     "data": {
      "text/plain": [
       "[{'timelocal': ['Timelocal', 's'],\n",
       "  'temperature': ['Temperature', '°C'],\n",
       "  'pressure': ['Pressure', 'Pa'],\n",
       "  'cpm': ['Radiation', 'cpm'],\n",
       "  'voltage': ['Voltage', 'V'],\n",
       "  'duty': ['Duty cycle', '‰'],\n",
       "  'all': ['All', '']},\n",
       " {'timelocal': ['Timelocal', 's'],\n",
       "  'temperature': ['Temperature', '°C'],\n",
       "  'pressure': ['Pressure', 'Pa'],\n",
       "  'humidity': ['Humidity', '% RH'],\n",
       "  'voc': ['VOC raw', 'Ohm'],\n",
       "  'vocaqi': ['VOC AQI', 'AQI 500'],\n",
       "  'co2': ['Carbon Dioxide', 'ppm'],\n",
       "  'ch2o': ['Formaldehyde', 'ppb'],\n",
       "  'pm1': ['PM1.0', 'µg/m³'],\n",
       "  'pm25': ['PM2.5', 'µg/m³'],\n",
       "  'pm10': ['PM10', 'µg/m³'],\n",
       "  'noise': ['Noise', 'dB'],\n",
       "  'cpm': ['Radiation', 'cpm'],\n",
       "  'voltage': ['Voltage', 'V'],\n",
       "  'duty': ['Duty cycle', '‰'],\n",
       "  'all': ['All', '']}]"
      ]
     },
     "execution_count": 90,
     "metadata": {},
     "output_type": "execute_result"
    }
   ],
   "source": [
    "available_sensors"
   ]
  },
  {
   "cell_type": "code",
   "execution_count": 97,
   "metadata": {},
   "outputs": [],
   "source": [
    "sensor_data_global = dict()\n",
    "for device_id in devices_id:\n",
    "    for sensor in available_sensors:\n",
    "        sensor_data = [{sensor_type: make_uradmonitor_request(f'https://data.uradmonitor.com/api/v1/devices/{device_id}/{sensor_type}/{start_interval}', headers=headers)} for sensor_type in sensor.keys()]\n",
    "    sensor_data_global.update({device_id:sensor_data})"
   ]
  },
  {
   "cell_type": "code",
   "execution_count": 98,
   "metadata": {},
   "outputs": [
    {
     "data": {
      "text/plain": [
       "{'4100000A': [{'timelocal': {'success': '[]'}},\n",
       "  {'temperature': {'success': '[]'}},\n",
       "  {'pressure': {'success': '[]'}},\n",
       "  {'humidity': {'timelocal': ['Timelocal', 's'],\n",
       "    'temperature': ['Temperature', '°C'],\n",
       "    'pressure': ['Pressure', 'Pa'],\n",
       "    'cpm': ['Radiation', 'cpm'],\n",
       "    'voltage': ['Voltage', 'V'],\n",
       "    'duty': ['Duty cycle', '‰'],\n",
       "    'all': ['All', '']}},\n",
       "  {'voc': {'timelocal': ['Timelocal', 's'],\n",
       "    'temperature': ['Temperature', '°C'],\n",
       "    'pressure': ['Pressure', 'Pa'],\n",
       "    'cpm': ['Radiation', 'cpm'],\n",
       "    'voltage': ['Voltage', 'V'],\n",
       "    'duty': ['Duty cycle', '‰'],\n",
       "    'all': ['All', '']}},\n",
       "  {'vocaqi': {'timelocal': ['Timelocal', 's'],\n",
       "    'temperature': ['Temperature', '°C'],\n",
       "    'pressure': ['Pressure', 'Pa'],\n",
       "    'cpm': ['Radiation', 'cpm'],\n",
       "    'voltage': ['Voltage', 'V'],\n",
       "    'duty': ['Duty cycle', '‰'],\n",
       "    'all': ['All', '']}},\n",
       "  {'co2': {'timelocal': ['Timelocal', 's'],\n",
       "    'temperature': ['Temperature', '°C'],\n",
       "    'pressure': ['Pressure', 'Pa'],\n",
       "    'cpm': ['Radiation', 'cpm'],\n",
       "    'voltage': ['Voltage', 'V'],\n",
       "    'duty': ['Duty cycle', '‰'],\n",
       "    'all': ['All', '']}},\n",
       "  {'ch2o': {'timelocal': ['Timelocal', 's'],\n",
       "    'temperature': ['Temperature', '°C'],\n",
       "    'pressure': ['Pressure', 'Pa'],\n",
       "    'cpm': ['Radiation', 'cpm'],\n",
       "    'voltage': ['Voltage', 'V'],\n",
       "    'duty': ['Duty cycle', '‰'],\n",
       "    'all': ['All', '']}},\n",
       "  {'pm1': {'timelocal': ['Timelocal', 's'],\n",
       "    'temperature': ['Temperature', '°C'],\n",
       "    'pressure': ['Pressure', 'Pa'],\n",
       "    'cpm': ['Radiation', 'cpm'],\n",
       "    'voltage': ['Voltage', 'V'],\n",
       "    'duty': ['Duty cycle', '‰'],\n",
       "    'all': ['All', '']}},\n",
       "  {'pm25': {'timelocal': ['Timelocal', 's'],\n",
       "    'temperature': ['Temperature', '°C'],\n",
       "    'pressure': ['Pressure', 'Pa'],\n",
       "    'cpm': ['Radiation', 'cpm'],\n",
       "    'voltage': ['Voltage', 'V'],\n",
       "    'duty': ['Duty cycle', '‰'],\n",
       "    'all': ['All', '']}},\n",
       "  {'pm10': {'timelocal': ['Timelocal', 's'],\n",
       "    'temperature': ['Temperature', '°C'],\n",
       "    'pressure': ['Pressure', 'Pa'],\n",
       "    'cpm': ['Radiation', 'cpm'],\n",
       "    'voltage': ['Voltage', 'V'],\n",
       "    'duty': ['Duty cycle', '‰'],\n",
       "    'all': ['All', '']}},\n",
       "  {'noise': {'timelocal': ['Timelocal', 's'],\n",
       "    'temperature': ['Temperature', '°C'],\n",
       "    'pressure': ['Pressure', 'Pa'],\n",
       "    'cpm': ['Radiation', 'cpm'],\n",
       "    'voltage': ['Voltage', 'V'],\n",
       "    'duty': ['Duty cycle', '‰'],\n",
       "    'all': ['All', '']}},\n",
       "  {'cpm': {'success': '[]'}},\n",
       "  {'voltage': {'success': '[]'}},\n",
       "  {'duty': {'success': '[]'}},\n",
       "  {'all': {'success': '[]'}}],\n",
       " '82000034': [{'timelocal': {'success': '[]'}},\n",
       "  {'temperature': {'success': '[]'}},\n",
       "  {'pressure': {'success': '[]'}},\n",
       "  {'humidity': {'success': '[]'}},\n",
       "  {'voc': {'success': '[]'}},\n",
       "  {'vocaqi': {'success': '[]'}},\n",
       "  {'co2': {'success': '[]'}},\n",
       "  {'ch2o': {'success': '[]'}},\n",
       "  {'pm1': {'success': '[]'}},\n",
       "  {'pm25': {'success': '[]'}},\n",
       "  {'pm10': {'success': '[]'}},\n",
       "  {'noise': {'success': '[]'}},\n",
       "  {'cpm': {'success': '[]'}},\n",
       "  {'voltage': {'success': '[]'}},\n",
       "  {'duty': {'success': '[]'}},\n",
       "  {'all': {'success': '[]'}}]}"
      ]
     },
     "execution_count": 98,
     "metadata": {},
     "output_type": "execute_result"
    }
   ],
   "source": [
    "sensor_data_global"
   ]
  },
  {
   "cell_type": "code",
   "execution_count": null,
   "metadata": {},
   "outputs": [],
   "source": []
  }
 ],
 "metadata": {
  "kernelspec": {
   "display_name": "Python 3",
   "language": "python",
   "name": "python3"
  },
  "language_info": {
   "codemirror_mode": {
    "name": "ipython",
    "version": 3
   },
   "file_extension": ".py",
   "mimetype": "text/x-python",
   "name": "python",
   "nbconvert_exporter": "python",
   "pygments_lexer": "ipython3",
   "version": "3.7.2"
  }
 },
 "nbformat": 4,
 "nbformat_minor": 4
}
