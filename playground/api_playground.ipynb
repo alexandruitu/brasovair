{
 "cells": [
  {
   "cell_type": "code",
   "execution_count": 14,
   "metadata": {},
   "outputs": [],
   "source": [
    "import requests\n",
    "import json\n",
    "import pandas as pd\n",
    "from pyproj import Proj, transform"
   ]
  },
  {
   "cell_type": "code",
   "execution_count": 2,
   "metadata": {},
   "outputs": [],
   "source": [
    "# request headers for the subscription\n",
    "#headers = {\"X-User-id\": \"6278\", \"X-User-hash\":\"a235942bff158e1027d455a9d36d2fa3\"}\n",
    "headers = {\"X-User-id\": \"www\", \"X-User-hash\":\"global\"}\n",
    "bv_devices_id = ['82000169', '160000C3', '160000A9', '1600009B', '160000A7'] "
   ]
  },
  {
   "cell_type": "code",
   "execution_count": 3,
   "metadata": {},
   "outputs": [],
   "source": [
    "def make_uradmonitor_request(url: str, headers):\n",
    "    response = requests.get(url, headers = headers)\n",
    "    try:\n",
    "        response_json = json.loads(response.content.decode(\"utf-8\"))\n",
    "    except Exception as e:\n",
    "        print (e)\n",
    "        return str(e)\n",
    "\n",
    "    return response_json\n",
    "    "
   ]
  },
  {
   "cell_type": "code",
   "execution_count": 7,
   "metadata": {},
   "outputs": [],
   "source": [
    "def insert(df, row):\n",
    "    insert_loc = df.index.max()\n",
    "\n",
    "    if pd.isna(insert_loc):\n",
    "        df.loc[0] = row\n",
    "    else:\n",
    "        df.loc[insert_loc + 1] = row"
   ]
  },
  {
   "cell_type": "code",
   "execution_count": 10,
   "metadata": {},
   "outputs": [],
   "source": [
    "def LatLon_to_EN(lat, lon):\n",
    "    try:\n",
    "      easting, northing = transform( Proj('epsg:4326'), Proj('epsg:3857'), lat, lon) # from WGS-84 to Web Mercator Easting/Northing\n",
    "      return easting, northing\n",
    "    except:\n",
    "      return None, None"
   ]
  },
  {
   "cell_type": "markdown",
   "metadata": {},
   "source": [
    "### 1. Get devices list"
   ]
  },
  {
   "cell_type": "code",
   "execution_count": 4,
   "metadata": {},
   "outputs": [],
   "source": [
    "devices_data = make_uradmonitor_request('https://data.uradmonitor.com/api/v1/devices/', headers = headers)"
   ]
  },
  {
   "cell_type": "code",
   "execution_count": 6,
   "metadata": {},
   "outputs": [],
   "source": [
    "brasov_devices = [device for device in devices_data if device['id'] in bv_devices_id]\n",
    "pm1 =  [{'pm1': brasov_device['avg_pm1'], 'latitude':brasov_device['latitude'], 'longitude':brasov_device['longitude'], 'avg_temperature': brasov_device['avg_temperature']} for brasov_device in brasov_devices]\n",
    "pm25 = [{'pm25': brasov_device['avg_pm25'], 'latitude':brasov_device['latitude'], 'longitude':brasov_device['longitude']} for brasov_device in brasov_devices]\n",
    "pm10 = [{'pm10': brasov_device['avg_pm10'], 'latitude':brasov_device['latitude'], 'longitude':brasov_device['longitude']} for brasov_device in brasov_devices]"
   ]
  },
  {
   "cell_type": "code",
   "execution_count": 15,
   "metadata": {},
   "outputs": [],
   "source": [
    "bv_sensor_data = pd.DataFrame(columns = ['deviceid', 'pm1', 'pm25', 'pm10', 'latitude', 'longitude', 'eastern', 'northern', 'temperature'])\n",
    "for idx, device in enumerate(devices_data):\n",
    "    if device['id'] in bv_devices_id:\n",
    "        E, N = LatLon_to_EN(device['latitude'], device['longitude'])\n",
    "        insert(bv_sensor_data, [device['id'], int(device['avg_pm1']), int(device['avg_pm25']), int(device['avg_pm10']), device['latitude'], device['longitude'], E, N, device['avg_temperature']])\n"
   ]
  },
  {
   "cell_type": "code",
   "execution_count": 16,
   "metadata": {},
   "outputs": [
    {
     "data": {
      "text/html": [
       "<div>\n",
       "<style scoped>\n",
       "    .dataframe tbody tr th:only-of-type {\n",
       "        vertical-align: middle;\n",
       "    }\n",
       "\n",
       "    .dataframe tbody tr th {\n",
       "        vertical-align: top;\n",
       "    }\n",
       "\n",
       "    .dataframe thead th {\n",
       "        text-align: right;\n",
       "    }\n",
       "</style>\n",
       "<table border=\"1\" class=\"dataframe\">\n",
       "  <thead>\n",
       "    <tr style=\"text-align: right;\">\n",
       "      <th></th>\n",
       "      <th>deviceid</th>\n",
       "      <th>pm1</th>\n",
       "      <th>pm25</th>\n",
       "      <th>pm10</th>\n",
       "      <th>latitude</th>\n",
       "      <th>longitude</th>\n",
       "      <th>eastern</th>\n",
       "      <th>northern</th>\n",
       "      <th>temperature</th>\n",
       "    </tr>\n",
       "  </thead>\n",
       "  <tbody>\n",
       "    <tr>\n",
       "      <th>0</th>\n",
       "      <td>1600009B</td>\n",
       "      <td>18</td>\n",
       "      <td>31</td>\n",
       "      <td>34</td>\n",
       "      <td>45.653509</td>\n",
       "      <td>25.566120</td>\n",
       "      <td>2.846007e+06</td>\n",
       "      <td>5.724997e+06</td>\n",
       "      <td>8.56</td>\n",
       "    </tr>\n",
       "    <tr>\n",
       "      <th>1</th>\n",
       "      <td>160000A7</td>\n",
       "      <td>20</td>\n",
       "      <td>46</td>\n",
       "      <td>52</td>\n",
       "      <td>45.704032</td>\n",
       "      <td>25.640955</td>\n",
       "      <td>2.854338e+06</td>\n",
       "      <td>5.733046e+06</td>\n",
       "      <td>7.58</td>\n",
       "    </tr>\n",
       "    <tr>\n",
       "      <th>2</th>\n",
       "      <td>160000A9</td>\n",
       "      <td>13</td>\n",
       "      <td>35</td>\n",
       "      <td>43</td>\n",
       "      <td>45.656800</td>\n",
       "      <td>25.591700</td>\n",
       "      <td>2.848855e+06</td>\n",
       "      <td>5.725521e+06</td>\n",
       "      <td>8.44</td>\n",
       "    </tr>\n",
       "    <tr>\n",
       "      <th>3</th>\n",
       "      <td>82000169</td>\n",
       "      <td>13</td>\n",
       "      <td>17</td>\n",
       "      <td>19</td>\n",
       "      <td>45.645893</td>\n",
       "      <td>25.599471</td>\n",
       "      <td>2.849720e+06</td>\n",
       "      <td>5.723784e+06</td>\n",
       "      <td>11.03</td>\n",
       "    </tr>\n",
       "  </tbody>\n",
       "</table>\n",
       "</div>"
      ],
      "text/plain": [
       "   deviceid pm1 pm25 pm10   latitude  longitude       eastern      northern  \\\n",
       "0  1600009B  18   31   34  45.653509  25.566120  2.846007e+06  5.724997e+06   \n",
       "1  160000A7  20   46   52  45.704032  25.640955  2.854338e+06  5.733046e+06   \n",
       "2  160000A9  13   35   43  45.656800  25.591700  2.848855e+06  5.725521e+06   \n",
       "3  82000169  13   17   19  45.645893  25.599471  2.849720e+06  5.723784e+06   \n",
       "\n",
       "  temperature  \n",
       "0        8.56  \n",
       "1        7.58  \n",
       "2        8.44  \n",
       "3       11.03  "
      ]
     },
     "execution_count": 16,
     "metadata": {},
     "output_type": "execute_result"
    }
   ],
   "source": [
    "bv_sensor_data"
   ]
  },
  {
   "cell_type": "markdown",
   "metadata": {},
   "source": [
    "### 2. Get device sensors list"
   ]
  },
  {
   "cell_type": "code",
   "execution_count": 32,
   "metadata": {},
   "outputs": [],
   "source": [
    "devices_id = [device['id'] for device in devices_list ]"
   ]
  },
  {
   "cell_type": "code",
   "execution_count": 34,
   "metadata": {},
   "outputs": [],
   "source": [
    "available_sensors = [make_uradmonitor_request(f'https://data.uradmonitor.com/api/v1/devices/{id}', headers = headers) for id in devices_id]"
   ]
  },
  {
   "cell_type": "markdown",
   "metadata": {},
   "source": [
    "### 3. Get detailed device data"
   ]
  },
  {
   "cell_type": "code",
   "execution_count": null,
   "metadata": {},
   "outputs": [],
   "source": [
    "start_interval = 600\n",
    "stop_interval = 480\n",
    "sensor_values = dict()\n",
    "for device_id in devices_id:\n",
    "    sensor_data = [make_uradmonitor_request(f'https://data.uradmonitor.com/api/v1/devices/{device_id}/{available_sensors data for ]\n",
    "    sensor_data = make_uradmonitor_request(f'https://data.uradmonitor.com/api/v1/devices/{device_id}/{available_sensors[0][\"temperature\"]}/{start_interval}/{stop_interval}',headers = headers)\n",
    "sensor_data"
   ]
  },
  {
   "cell_type": "code",
   "execution_count": null,
   "metadata": {},
   "outputs": [],
   "source": [
    "for key in available_sensors[0].keys():\n",
    "    print(key)"
   ]
  },
  {
   "cell_type": "code",
   "execution_count": null,
   "metadata": {},
   "outputs": [],
   "source": [
    "available_sensors"
   ]
  },
  {
   "cell_type": "code",
   "execution_count": 97,
   "metadata": {},
   "outputs": [],
   "source": [
    "sensor_data_global = dict()\n",
    "for device_id in devices_id:\n",
    "    for sensor in available_sensors:\n",
    "        sensor_data = [{sensor_type: make_uradmonitor_request(f'https://data.uradmonitor.com/api/v1/devices/{device_id}/{sensor_type}/{start_interval}', headers=headers)} for sensor_type in sensor.keys()]\n",
    "    sensor_data_global.update({device_id:sensor_data})"
   ]
  },
  {
   "cell_type": "code",
   "execution_count": null,
   "metadata": {},
   "outputs": [],
   "source": [
    "sensor_data_global"
   ]
  },
  {
   "cell_type": "code",
   "execution_count": 46,
   "metadata": {},
   "outputs": [],
   "source": [
    "import urllib.request\n",
    "opener = urllib.request.build_opener()\n",
    "opener.addheaders = [(\"X-User-id\", \"6378\"), (\"X-User-hash\", \"e3e7cbb6623b3e6a4504a2a258da07f1\")]\n",
    "devices = opener.open('https://data.uradmonitor.com/api/v1/devices')"
   ]
  },
  {
   "cell_type": "code",
   "execution_count": 47,
   "metadata": {},
   "outputs": [],
   "source": [
    "import json\n",
    "js = json.loads(f\"{devices.read().decode('utf-8')}\")"
   ]
  },
  {
   "cell_type": "code",
   "execution_count": 48,
   "metadata": {},
   "outputs": [
    {
     "data": {
      "text/plain": [
       "'{\"id\": \"82000156\", \"timefirst\": \"1580763711\", \"timelast\": \"1581573784\", \"timelocal\": \"240\", \"latitude\": 45.700884, \"longitude\": 26.1063, \"altitude\": 470.5, \"speed\": 0, \"city\": \"Harman\", \"country\": \"RO\", \"placement\": \"1\", \"versionsw\": \"74\", \"versionhw\": \"108\", \"status\": null, \"mobile\": null, \"detector\": \"SI29BG\", \"factor\": 0.01, \"note\": \"\", \"picture\": \"\", \"avg_timelocal\": \"750\", \"avg_temperature\": \"21.94\", \"avg_pressure\": \"95778\", \"avg_humidity\": \"43.91\", \"avg_voc\": \"110909\", \"min_voc\": null, \"max_voc\": null, \"avg_noise\": \"53.05\", \"avg_co2\": \"1103\", \"avg_ch2o\": \"101\", \"avg_o3\": \"20\", \"avg_pm1\": \"0\", \"avg_pm25\": \"0\", \"avg_pm10\": \"0\"}'"
      ]
     },
     "execution_count": 48,
     "metadata": {},
     "output_type": "execute_result"
    }
   ],
   "source": [
    "json.dumps(js[0])"
   ]
  },
  {
   "cell_type": "code",
   "execution_count": 158,
   "metadata": {},
   "outputs": [],
   "source": [
    "import json\n",
    "import urllib.request\n",
    "from pyproj import Proj, transform"
   ]
  },
  {
   "cell_type": "code",
   "execution_count": 237,
   "metadata": {},
   "outputs": [
    {
     "data": {
      "text/html": [
       "\n",
       "    <div class=\"bk-root\">\n",
       "        <a href=\"https://bokeh.org\" target=\"_blank\" class=\"bk-logo bk-logo-small bk-logo-notebook\"></a>\n",
       "        <span id=\"53502\">Loading BokehJS ...</span>\n",
       "    </div>"
      ]
     },
     "metadata": {},
     "output_type": "display_data"
    },
    {
     "data": {
      "application/javascript": [
       "\n",
       "(function(root) {\n",
       "  function now() {\n",
       "    return new Date();\n",
       "  }\n",
       "\n",
       "  var force = true;\n",
       "\n",
       "  if (typeof root._bokeh_onload_callbacks === \"undefined\" || force === true) {\n",
       "    root._bokeh_onload_callbacks = [];\n",
       "    root._bokeh_is_loading = undefined;\n",
       "  }\n",
       "\n",
       "  var JS_MIME_TYPE = 'application/javascript';\n",
       "  var HTML_MIME_TYPE = 'text/html';\n",
       "  var EXEC_MIME_TYPE = 'application/vnd.bokehjs_exec.v0+json';\n",
       "  var CLASS_NAME = 'output_bokeh rendered_html';\n",
       "\n",
       "  /**\n",
       "   * Render data to the DOM node\n",
       "   */\n",
       "  function render(props, node) {\n",
       "    var script = document.createElement(\"script\");\n",
       "    node.appendChild(script);\n",
       "  }\n",
       "\n",
       "  /**\n",
       "   * Handle when an output is cleared or removed\n",
       "   */\n",
       "  function handleClearOutput(event, handle) {\n",
       "    var cell = handle.cell;\n",
       "\n",
       "    var id = cell.output_area._bokeh_element_id;\n",
       "    var server_id = cell.output_area._bokeh_server_id;\n",
       "    // Clean up Bokeh references\n",
       "    if (id != null && id in Bokeh.index) {\n",
       "      Bokeh.index[id].model.document.clear();\n",
       "      delete Bokeh.index[id];\n",
       "    }\n",
       "\n",
       "    if (server_id !== undefined) {\n",
       "      // Clean up Bokeh references\n",
       "      var cmd = \"from bokeh.io.state import curstate; print(curstate().uuid_to_server['\" + server_id + \"'].get_sessions()[0].document.roots[0]._id)\";\n",
       "      cell.notebook.kernel.execute(cmd, {\n",
       "        iopub: {\n",
       "          output: function(msg) {\n",
       "            var id = msg.content.text.trim();\n",
       "            if (id in Bokeh.index) {\n",
       "              Bokeh.index[id].model.document.clear();\n",
       "              delete Bokeh.index[id];\n",
       "            }\n",
       "          }\n",
       "        }\n",
       "      });\n",
       "      // Destroy server and session\n",
       "      var cmd = \"import bokeh.io.notebook as ion; ion.destroy_server('\" + server_id + \"')\";\n",
       "      cell.notebook.kernel.execute(cmd);\n",
       "    }\n",
       "  }\n",
       "\n",
       "  /**\n",
       "   * Handle when a new output is added\n",
       "   */\n",
       "  function handleAddOutput(event, handle) {\n",
       "    var output_area = handle.output_area;\n",
       "    var output = handle.output;\n",
       "\n",
       "    // limit handleAddOutput to display_data with EXEC_MIME_TYPE content only\n",
       "    if ((output.output_type != \"display_data\") || (!output.data.hasOwnProperty(EXEC_MIME_TYPE))) {\n",
       "      return\n",
       "    }\n",
       "\n",
       "    var toinsert = output_area.element.find(\".\" + CLASS_NAME.split(' ')[0]);\n",
       "\n",
       "    if (output.metadata[EXEC_MIME_TYPE][\"id\"] !== undefined) {\n",
       "      toinsert[toinsert.length - 1].firstChild.textContent = output.data[JS_MIME_TYPE];\n",
       "      // store reference to embed id on output_area\n",
       "      output_area._bokeh_element_id = output.metadata[EXEC_MIME_TYPE][\"id\"];\n",
       "    }\n",
       "    if (output.metadata[EXEC_MIME_TYPE][\"server_id\"] !== undefined) {\n",
       "      var bk_div = document.createElement(\"div\");\n",
       "      bk_div.innerHTML = output.data[HTML_MIME_TYPE];\n",
       "      var script_attrs = bk_div.children[0].attributes;\n",
       "      for (var i = 0; i < script_attrs.length; i++) {\n",
       "        toinsert[toinsert.length - 1].firstChild.setAttribute(script_attrs[i].name, script_attrs[i].value);\n",
       "      }\n",
       "      // store reference to server id on output_area\n",
       "      output_area._bokeh_server_id = output.metadata[EXEC_MIME_TYPE][\"server_id\"];\n",
       "    }\n",
       "  }\n",
       "\n",
       "  function register_renderer(events, OutputArea) {\n",
       "\n",
       "    function append_mime(data, metadata, element) {\n",
       "      // create a DOM node to render to\n",
       "      var toinsert = this.create_output_subarea(\n",
       "        metadata,\n",
       "        CLASS_NAME,\n",
       "        EXEC_MIME_TYPE\n",
       "      );\n",
       "      this.keyboard_manager.register_events(toinsert);\n",
       "      // Render to node\n",
       "      var props = {data: data, metadata: metadata[EXEC_MIME_TYPE]};\n",
       "      render(props, toinsert[toinsert.length - 1]);\n",
       "      element.append(toinsert);\n",
       "      return toinsert\n",
       "    }\n",
       "\n",
       "    /* Handle when an output is cleared or removed */\n",
       "    events.on('clear_output.CodeCell', handleClearOutput);\n",
       "    events.on('delete.Cell', handleClearOutput);\n",
       "\n",
       "    /* Handle when a new output is added */\n",
       "    events.on('output_added.OutputArea', handleAddOutput);\n",
       "\n",
       "    /**\n",
       "     * Register the mime type and append_mime function with output_area\n",
       "     */\n",
       "    OutputArea.prototype.register_mime_type(EXEC_MIME_TYPE, append_mime, {\n",
       "      /* Is output safe? */\n",
       "      safe: true,\n",
       "      /* Index of renderer in `output_area.display_order` */\n",
       "      index: 0\n",
       "    });\n",
       "  }\n",
       "\n",
       "  // register the mime type if in Jupyter Notebook environment and previously unregistered\n",
       "  if (root.Jupyter !== undefined) {\n",
       "    var events = require('base/js/events');\n",
       "    var OutputArea = require('notebook/js/outputarea').OutputArea;\n",
       "\n",
       "    if (OutputArea.prototype.mime_types().indexOf(EXEC_MIME_TYPE) == -1) {\n",
       "      register_renderer(events, OutputArea);\n",
       "    }\n",
       "  }\n",
       "\n",
       "  \n",
       "  if (typeof (root._bokeh_timeout) === \"undefined\" || force === true) {\n",
       "    root._bokeh_timeout = Date.now() + 5000;\n",
       "    root._bokeh_failed_load = false;\n",
       "  }\n",
       "\n",
       "  var NB_LOAD_WARNING = {'data': {'text/html':\n",
       "     \"<div style='background-color: #fdd'>\\n\"+\n",
       "     \"<p>\\n\"+\n",
       "     \"BokehJS does not appear to have successfully loaded. If loading BokehJS from CDN, this \\n\"+\n",
       "     \"may be due to a slow or bad network connection. Possible fixes:\\n\"+\n",
       "     \"</p>\\n\"+\n",
       "     \"<ul>\\n\"+\n",
       "     \"<li>re-rerun `output_notebook()` to attempt to load from CDN again, or</li>\\n\"+\n",
       "     \"<li>use INLINE resources instead, as so:</li>\\n\"+\n",
       "     \"</ul>\\n\"+\n",
       "     \"<code>\\n\"+\n",
       "     \"from bokeh.resources import INLINE\\n\"+\n",
       "     \"output_notebook(resources=INLINE)\\n\"+\n",
       "     \"</code>\\n\"+\n",
       "     \"</div>\"}};\n",
       "\n",
       "  function display_loaded() {\n",
       "    var el = document.getElementById(\"53502\");\n",
       "    if (el != null) {\n",
       "      el.textContent = \"BokehJS is loading...\";\n",
       "    }\n",
       "    if (root.Bokeh !== undefined) {\n",
       "      if (el != null) {\n",
       "        el.textContent = \"BokehJS \" + root.Bokeh.version + \" successfully loaded.\";\n",
       "      }\n",
       "    } else if (Date.now() < root._bokeh_timeout) {\n",
       "      setTimeout(display_loaded, 100)\n",
       "    }\n",
       "  }\n",
       "\n",
       "\n",
       "  function run_callbacks() {\n",
       "    try {\n",
       "      root._bokeh_onload_callbacks.forEach(function(callback) {\n",
       "        if (callback != null)\n",
       "          callback();\n",
       "      });\n",
       "    } finally {\n",
       "      delete root._bokeh_onload_callbacks\n",
       "    }\n",
       "    console.debug(\"Bokeh: all callbacks have finished\");\n",
       "  }\n",
       "\n",
       "  function load_libs(css_urls, js_urls, callback) {\n",
       "    if (css_urls == null) css_urls = [];\n",
       "    if (js_urls == null) js_urls = [];\n",
       "\n",
       "    root._bokeh_onload_callbacks.push(callback);\n",
       "    if (root._bokeh_is_loading > 0) {\n",
       "      console.debug(\"Bokeh: BokehJS is being loaded, scheduling callback at\", now());\n",
       "      return null;\n",
       "    }\n",
       "    if (js_urls == null || js_urls.length === 0) {\n",
       "      run_callbacks();\n",
       "      return null;\n",
       "    }\n",
       "    console.debug(\"Bokeh: BokehJS not loaded, scheduling load and callback at\", now());\n",
       "    root._bokeh_is_loading = css_urls.length + js_urls.length;\n",
       "\n",
       "    function on_load() {\n",
       "      root._bokeh_is_loading--;\n",
       "      if (root._bokeh_is_loading === 0) {\n",
       "        console.debug(\"Bokeh: all BokehJS libraries/stylesheets loaded\");\n",
       "        run_callbacks()\n",
       "      }\n",
       "    }\n",
       "\n",
       "    function on_error() {\n",
       "      console.error(\"failed to load \" + url);\n",
       "    }\n",
       "\n",
       "    for (var i = 0; i < css_urls.length; i++) {\n",
       "      var url = css_urls[i];\n",
       "      const element = document.createElement(\"link\");\n",
       "      element.onload = on_load;\n",
       "      element.onerror = on_error;\n",
       "      element.rel = \"stylesheet\";\n",
       "      element.type = \"text/css\";\n",
       "      element.href = url;\n",
       "      console.debug(\"Bokeh: injecting link tag for BokehJS stylesheet: \", url);\n",
       "      document.body.appendChild(element);\n",
       "    }\n",
       "\n",
       "    for (var i = 0; i < js_urls.length; i++) {\n",
       "      var url = js_urls[i];\n",
       "      var element = document.createElement('script');\n",
       "      element.onload = on_load;\n",
       "      element.onerror = on_error;\n",
       "      element.async = false;\n",
       "      element.src = url;\n",
       "      console.debug(\"Bokeh: injecting script tag for BokehJS library: \", url);\n",
       "      document.head.appendChild(element);\n",
       "    }\n",
       "  };var element = document.getElementById(\"53502\");\n",
       "  if (element == null) {\n",
       "    console.error(\"Bokeh: ERROR: autoload.js configured with elementid '53502' but no matching script tag was found. \")\n",
       "    return false;\n",
       "  }\n",
       "\n",
       "  function inject_raw_css(css) {\n",
       "    const element = document.createElement(\"style\");\n",
       "    element.appendChild(document.createTextNode(css));\n",
       "    document.body.appendChild(element);\n",
       "  }\n",
       "\n",
       "  \n",
       "  var js_urls = [\"https://cdn.pydata.org/bokeh/release/bokeh-1.4.0.min.js\", \"https://cdn.pydata.org/bokeh/release/bokeh-widgets-1.4.0.min.js\", \"https://cdn.pydata.org/bokeh/release/bokeh-tables-1.4.0.min.js\", \"https://cdn.pydata.org/bokeh/release/bokeh-gl-1.4.0.min.js\"];\n",
       "  var css_urls = [];\n",
       "  \n",
       "\n",
       "  var inline_js = [\n",
       "    function(Bokeh) {\n",
       "      Bokeh.set_log_level(\"info\");\n",
       "    },\n",
       "    function(Bokeh) {\n",
       "    \n",
       "    \n",
       "    }\n",
       "  ];\n",
       "\n",
       "  function run_inline_js() {\n",
       "    \n",
       "    if (root.Bokeh !== undefined || force === true) {\n",
       "      \n",
       "    for (var i = 0; i < inline_js.length; i++) {\n",
       "      inline_js[i].call(root, root.Bokeh);\n",
       "    }\n",
       "    if (force === true) {\n",
       "        display_loaded();\n",
       "      }} else if (Date.now() < root._bokeh_timeout) {\n",
       "      setTimeout(run_inline_js, 100);\n",
       "    } else if (!root._bokeh_failed_load) {\n",
       "      console.log(\"Bokeh: BokehJS failed to load within specified timeout.\");\n",
       "      root._bokeh_failed_load = true;\n",
       "    } else if (force !== true) {\n",
       "      var cell = $(document.getElementById(\"53502\")).parents('.cell').data().cell;\n",
       "      cell.output_area.append_execute_result(NB_LOAD_WARNING)\n",
       "    }\n",
       "\n",
       "  }\n",
       "\n",
       "  if (root._bokeh_is_loading === 0) {\n",
       "    console.debug(\"Bokeh: BokehJS loaded, going straight to plotting\");\n",
       "    run_inline_js();\n",
       "  } else {\n",
       "    load_libs(css_urls, js_urls, function() {\n",
       "      console.debug(\"Bokeh: BokehJS plotting callback run at\", now());\n",
       "      run_inline_js();\n",
       "    });\n",
       "  }\n",
       "}(window));"
      ],
      "application/vnd.bokehjs_load.v0+json": "\n(function(root) {\n  function now() {\n    return new Date();\n  }\n\n  var force = true;\n\n  if (typeof root._bokeh_onload_callbacks === \"undefined\" || force === true) {\n    root._bokeh_onload_callbacks = [];\n    root._bokeh_is_loading = undefined;\n  }\n\n  \n\n  \n  if (typeof (root._bokeh_timeout) === \"undefined\" || force === true) {\n    root._bokeh_timeout = Date.now() + 5000;\n    root._bokeh_failed_load = false;\n  }\n\n  var NB_LOAD_WARNING = {'data': {'text/html':\n     \"<div style='background-color: #fdd'>\\n\"+\n     \"<p>\\n\"+\n     \"BokehJS does not appear to have successfully loaded. If loading BokehJS from CDN, this \\n\"+\n     \"may be due to a slow or bad network connection. Possible fixes:\\n\"+\n     \"</p>\\n\"+\n     \"<ul>\\n\"+\n     \"<li>re-rerun `output_notebook()` to attempt to load from CDN again, or</li>\\n\"+\n     \"<li>use INLINE resources instead, as so:</li>\\n\"+\n     \"</ul>\\n\"+\n     \"<code>\\n\"+\n     \"from bokeh.resources import INLINE\\n\"+\n     \"output_notebook(resources=INLINE)\\n\"+\n     \"</code>\\n\"+\n     \"</div>\"}};\n\n  function display_loaded() {\n    var el = document.getElementById(\"53502\");\n    if (el != null) {\n      el.textContent = \"BokehJS is loading...\";\n    }\n    if (root.Bokeh !== undefined) {\n      if (el != null) {\n        el.textContent = \"BokehJS \" + root.Bokeh.version + \" successfully loaded.\";\n      }\n    } else if (Date.now() < root._bokeh_timeout) {\n      setTimeout(display_loaded, 100)\n    }\n  }\n\n\n  function run_callbacks() {\n    try {\n      root._bokeh_onload_callbacks.forEach(function(callback) {\n        if (callback != null)\n          callback();\n      });\n    } finally {\n      delete root._bokeh_onload_callbacks\n    }\n    console.debug(\"Bokeh: all callbacks have finished\");\n  }\n\n  function load_libs(css_urls, js_urls, callback) {\n    if (css_urls == null) css_urls = [];\n    if (js_urls == null) js_urls = [];\n\n    root._bokeh_onload_callbacks.push(callback);\n    if (root._bokeh_is_loading > 0) {\n      console.debug(\"Bokeh: BokehJS is being loaded, scheduling callback at\", now());\n      return null;\n    }\n    if (js_urls == null || js_urls.length === 0) {\n      run_callbacks();\n      return null;\n    }\n    console.debug(\"Bokeh: BokehJS not loaded, scheduling load and callback at\", now());\n    root._bokeh_is_loading = css_urls.length + js_urls.length;\n\n    function on_load() {\n      root._bokeh_is_loading--;\n      if (root._bokeh_is_loading === 0) {\n        console.debug(\"Bokeh: all BokehJS libraries/stylesheets loaded\");\n        run_callbacks()\n      }\n    }\n\n    function on_error() {\n      console.error(\"failed to load \" + url);\n    }\n\n    for (var i = 0; i < css_urls.length; i++) {\n      var url = css_urls[i];\n      const element = document.createElement(\"link\");\n      element.onload = on_load;\n      element.onerror = on_error;\n      element.rel = \"stylesheet\";\n      element.type = \"text/css\";\n      element.href = url;\n      console.debug(\"Bokeh: injecting link tag for BokehJS stylesheet: \", url);\n      document.body.appendChild(element);\n    }\n\n    for (var i = 0; i < js_urls.length; i++) {\n      var url = js_urls[i];\n      var element = document.createElement('script');\n      element.onload = on_load;\n      element.onerror = on_error;\n      element.async = false;\n      element.src = url;\n      console.debug(\"Bokeh: injecting script tag for BokehJS library: \", url);\n      document.head.appendChild(element);\n    }\n  };var element = document.getElementById(\"53502\");\n  if (element == null) {\n    console.error(\"Bokeh: ERROR: autoload.js configured with elementid '53502' but no matching script tag was found. \")\n    return false;\n  }\n\n  function inject_raw_css(css) {\n    const element = document.createElement(\"style\");\n    element.appendChild(document.createTextNode(css));\n    document.body.appendChild(element);\n  }\n\n  \n  var js_urls = [\"https://cdn.pydata.org/bokeh/release/bokeh-1.4.0.min.js\", \"https://cdn.pydata.org/bokeh/release/bokeh-widgets-1.4.0.min.js\", \"https://cdn.pydata.org/bokeh/release/bokeh-tables-1.4.0.min.js\", \"https://cdn.pydata.org/bokeh/release/bokeh-gl-1.4.0.min.js\"];\n  var css_urls = [];\n  \n\n  var inline_js = [\n    function(Bokeh) {\n      Bokeh.set_log_level(\"info\");\n    },\n    function(Bokeh) {\n    \n    \n    }\n  ];\n\n  function run_inline_js() {\n    \n    if (root.Bokeh !== undefined || force === true) {\n      \n    for (var i = 0; i < inline_js.length; i++) {\n      inline_js[i].call(root, root.Bokeh);\n    }\n    if (force === true) {\n        display_loaded();\n      }} else if (Date.now() < root._bokeh_timeout) {\n      setTimeout(run_inline_js, 100);\n    } else if (!root._bokeh_failed_load) {\n      console.log(\"Bokeh: BokehJS failed to load within specified timeout.\");\n      root._bokeh_failed_load = true;\n    } else if (force !== true) {\n      var cell = $(document.getElementById(\"53502\")).parents('.cell').data().cell;\n      cell.output_area.append_execute_result(NB_LOAD_WARNING)\n    }\n\n  }\n\n  if (root._bokeh_is_loading === 0) {\n    console.debug(\"Bokeh: BokehJS loaded, going straight to plotting\");\n    run_inline_js();\n  } else {\n    load_libs(css_urls, js_urls, function() {\n      console.debug(\"Bokeh: BokehJS plotting callback run at\", now());\n      run_inline_js();\n    });\n  }\n}(window));"
     },
     "metadata": {},
     "output_type": "display_data"
    },
    {
     "data": {
      "text/html": [
       "\n",
       "\n",
       "\n",
       "\n",
       "\n",
       "\n",
       "  <div class=\"bk-root\" id=\"4394b667-b52e-4f3f-94bb-73815f314a9c\" data-root-id=\"53503\"></div>\n"
      ]
     },
     "metadata": {},
     "output_type": "display_data"
    },
    {
     "data": {
      "application/javascript": [
       "(function(root) {\n",
       "  function embed_document(root) {\n",
       "    \n",
       "  var docs_json = {\"4dd80b6b-1df6-4bc8-af0a-23cd339d15e4\":{\"roots\":{\"references\":[{\"attributes\":{\"children\":[[{\"id\":\"53491\",\"type\":\"RadioButtonGroup\"},0,0,1,1],[{\"id\":\"53446\",\"subtype\":\"Figure\",\"type\":\"Plot\"},1,0,1,1]]},\"id\":\"53503\",\"type\":\"GridBox\"},{\"attributes\":{\"dimension\":\"lon\"},\"id\":\"53458\",\"type\":\"MercatorTickFormatter\"},{\"attributes\":{\"dimension\":\"lon\"},\"id\":\"53456\",\"type\":\"MercatorTicker\"},{\"attributes\":{},\"id\":\"54350\",\"type\":\"BasicTickFormatter\"},{\"attributes\":{},\"id\":\"53451\",\"type\":\"LinearScale\"},{\"attributes\":{\"fill_alpha\":{\"value\":0.5},\"fill_color\":{\"field\":\"pm25\",\"transform\":{\"id\":\"12203\",\"type\":\"LinearColorMapper\"}},\"line_alpha\":{\"value\":0.5},\"line_color\":{\"field\":\"pm25\",\"transform\":{\"id\":\"12203\",\"type\":\"LinearColorMapper\"}},\"size\":{\"field\":\"pm25\",\"units\":\"screen\"},\"x\":{\"field\":\"eastern\"},\"y\":{\"field\":\"northern\"}},\"id\":\"53495\",\"type\":\"Circle\"},{\"attributes\":{},\"id\":\"54351\",\"type\":\"BasicTicker\"},{\"attributes\":{\"text\":\"\"},\"id\":\"53483\",\"type\":\"Title\"},{\"attributes\":{\"callback\":null,\"end\":2864387,\"start\":2839667},\"id\":\"53447\",\"type\":\"Range1d\"},{\"attributes\":{\"high\":100.0,\"low\":1.0,\"palette\":[\"#00FF00\",\"#7FFF00\",\"#FFFF00\",\"#FFFF00\",\"#FF0000\",\"#C82538\"]},\"id\":\"53492\",\"type\":\"LinearColorMapper\"},{\"attributes\":{\"dimension\":1,\"grid_line_color\":null,\"ticker\":{\"id\":\"53465\",\"type\":\"MercatorTicker\"}},\"id\":\"53472\",\"type\":\"Grid\"},{\"attributes\":{\"active_drag\":\"auto\",\"active_inspect\":\"auto\",\"active_multi\":null,\"active_scroll\":{\"id\":\"53474\",\"type\":\"WheelZoomTool\"},\"active_tap\":\"auto\",\"tools\":[{\"id\":\"53473\",\"type\":\"PanTool\"},{\"id\":\"53474\",\"type\":\"WheelZoomTool\"},{\"id\":\"53475\",\"type\":\"ResetTool\"},{\"id\":\"53500\",\"type\":\"HoverTool\"}]},\"id\":\"53476\",\"type\":\"Toolbar\"},{\"attributes\":{\"source\":{\"id\":\"53489\",\"type\":\"ColumnDataSource\"}},\"id\":\"53499\",\"type\":\"CDSView\"},{\"attributes\":{\"fill_alpha\":{\"value\":0.1},\"fill_color\":{\"value\":\"#1f77b4\"},\"line_alpha\":{\"value\":0.1},\"line_color\":{\"value\":\"#1f77b4\"},\"size\":{\"field\":\"pm25\",\"units\":\"screen\"},\"x\":{\"field\":\"eastern\"},\"y\":{\"field\":\"northern\"}},\"id\":\"53496\",\"type\":\"Circle\"},{\"attributes\":{},\"id\":\"54352\",\"type\":\"UnionRenderers\"},{\"attributes\":{\"callback\":null,\"mode\":\"vline\",\"tooltips\":[[\"pm1\",\"@pm1\"],[\"pm25\",\"@pm25\"],[\"pm10\",\"@pm10\"]]},\"id\":\"53500\",\"type\":\"HoverTool\"},{\"attributes\":{\"callback\":{\"id\":\"53490\",\"type\":\"CustomJS\"},\"labels\":[\"pm1\",\"pm25\",\"pm10\"]},\"id\":\"53491\",\"type\":\"RadioButtonGroup\"},{\"attributes\":{\"color_mapper\":{\"id\":\"53492\",\"type\":\"LinearColorMapper\"},\"formatter\":{\"id\":\"54350\",\"type\":\"BasicTickFormatter\"},\"location\":[0,0],\"ticker\":{\"id\":\"54351\",\"type\":\"BasicTicker\"},\"title\":\"CAQI\",\"width\":10},\"id\":\"53493\",\"type\":\"ColorBar\"},{\"attributes\":{\"high\":130.0,\"low\":1.0,\"palette\":[\"#00FF00\",\"#7FFF00\",\"#FFFF00\",\"#FFFF00\",\"#FF0000\",\"#C82538\"]},\"id\":\"12203\",\"type\":\"LinearColorMapper\"},{\"attributes\":{\"fill_color\":{\"value\":\"navy\"},\"line_color\":{\"value\":\"navy\"},\"size\":{\"field\":\"pm25\",\"units\":\"screen\"},\"x\":{\"field\":\"eastern\"},\"y\":{\"field\":\"northern\"}},\"id\":\"53497\",\"type\":\"Circle\"},{\"attributes\":{},\"id\":\"53453\",\"type\":\"LinearScale\"},{\"attributes\":{\"args\":{\"p\":{\"id\":\"53446\",\"subtype\":\"Figure\",\"type\":\"Plot\"},\"source\":{\"id\":\"53489\",\"type\":\"ColumnDataSource\"}},\"code\":\"\\n            var urad_url = \\\"https://m9sdldu09a.execute-api.us-east-1.amazonaws.com/uradbvair\\\";\\n            var req = new XMLHttpRequest();\\n            req.responseType = 'json';\\n            req.open('GET', urad_url, true);\\n            active_option = cb_obj.labels[cb_obj.active];\\n            req.onload  = function() {\\n               var jsonResponse = req.response;\\n               var pm1 = [];\\n               var pm25 = [];\\n               var pm10 = [];\\n               var selection = [];\\n               for (val of jsonResponse) {\\n                  pm1.push(val['pm1']);\\n                  pm25.push(val['pm25']);\\n                  pm10.push(val['pm10']); \\n                  selection.push(active_option);\\n               }               \\n               source.data['pm1'] = pm1;\\n               source.data['pm25'] = pm25 ;\\n               source.data['pm10'] = pm10; \\n               source.data['selection'] = selection;\\n               console.log(p);\\n               // do something with jsonResponse\\n            };\\n            req.send(null);\\n            source.change.emit();\\n\"},\"id\":\"53490\",\"type\":\"CustomJS\"},{\"attributes\":{},\"id\":\"53475\",\"type\":\"ResetTool\"},{\"attributes\":{\"formatter\":{\"id\":\"53467\",\"type\":\"MercatorTickFormatter\"},\"ticker\":{\"id\":\"53465\",\"type\":\"MercatorTicker\"},\"visible\":false},\"id\":\"53464\",\"type\":\"MercatorAxis\"},{\"attributes\":{\"dimension\":\"lat\"},\"id\":\"53467\",\"type\":\"MercatorTickFormatter\"},{\"attributes\":{\"grid_line_color\":null,\"ticker\":{\"id\":\"53456\",\"type\":\"MercatorTicker\"}},\"id\":\"53463\",\"type\":\"Grid\"},{\"attributes\":{\"dimension\":\"lat\"},\"id\":\"53465\",\"type\":\"MercatorTicker\"},{\"attributes\":{\"attribution\":\"Map tiles by <a href=\\\"https://stamen.com\\\">Stamen Design</a>, under <a href=\\\"https://creativecommons.org/licenses/by/3.0\\\">CC BY 3.0</a>. Data by <a href=\\\"https://openstreetmap.org\\\">OpenStreetMap</a>, under <a href=\\\"https://creativecommons.org/licenses/by-sa/3.0\\\">CC BY SA</a>.\",\"url\":\"http://tile.stamen.com/terrain/{Z}/{X}/{Y}.png\"},\"id\":\"53445\",\"type\":\"WMTSTileSource\"},{\"attributes\":{\"callback\":null,\"end\":5733344,\"start\":5724182},\"id\":\"53449\",\"type\":\"Range1d\"},{\"attributes\":{},\"id\":\"53473\",\"type\":\"PanTool\"},{\"attributes\":{},\"id\":\"54353\",\"type\":\"Selection\"},{\"attributes\":{\"callback\":null,\"data\":{\"deviceid\":[\"1600009B\",\"1600009C\",\"160000A7\",\"160000A9\",\"82000169\"],\"eastern\":{\"__ndarray__\":\"2fXfupu2RUHFrsTgGr5FQXY36wbhxkVBp7iagSu8RUEVG8QJ3L1FQQ==\",\"dtype\":\"float64\",\"shape\":[5]},\"index\":[0,1,2,3,4],\"latitude\":{\"__ndarray__\":\"IlLTLqbTRkD1udqK/dVGQDKrd7gd2kZAowG8BRLURkCQ2y+frNJGQA==\",\"dtype\":\"float64\",\"shape\":[5]},\"longitude\":{\"__ndarray__\":\"jZyFPe2QOUBE+u3rwJk5QCs1e6AVpDlADwu1pnmXOUCC5nPudpk5QA==\",\"dtype\":\"float64\",\"shape\":[5]},\"northern\":{\"__ndarray__\":\"gy4GJtHWVUEXV72BqdlVQTEhVpWt3lVBSxc2LlTXVUEL8PPxodVVQQ==\",\"dtype\":\"float64\",\"shape\":[5]},\"pm1\":[16,11,14,13,11],\"pm10\":[25,18,40,35,15],\"pm25\":[23,16,32,29,14],\"selection\":[\"pm25\",\"pm25\",\"pm25\",\"pm25\",\"pm25\"],\"temperature\":[\"8.58\",\"6.97\",\"8.54\",\"6.46\",\"8.74\"]},\"selected\":{\"id\":\"54353\",\"type\":\"Selection\"},\"selection_policy\":{\"id\":\"54352\",\"type\":\"UnionRenderers\"}},\"id\":\"53489\",\"type\":\"ColumnDataSource\"},{\"attributes\":{\"below\":[{\"id\":\"53455\",\"type\":\"MercatorAxis\"}],\"center\":[{\"id\":\"53463\",\"type\":\"Grid\"},{\"id\":\"53472\",\"type\":\"Grid\"}],\"left\":[{\"id\":\"53464\",\"type\":\"MercatorAxis\"}],\"plot_height\":900,\"plot_width\":1200,\"renderers\":[{\"id\":\"53480\",\"type\":\"TileRenderer\"},{\"id\":\"53498\",\"type\":\"GlyphRenderer\"}],\"right\":[{\"id\":\"53493\",\"type\":\"ColorBar\"}],\"title\":{\"id\":\"53483\",\"type\":\"Title\"},\"toolbar\":{\"id\":\"53476\",\"type\":\"Toolbar\"},\"x_range\":{\"id\":\"53447\",\"type\":\"Range1d\"},\"x_scale\":{\"id\":\"53451\",\"type\":\"LinearScale\"},\"y_range\":{\"id\":\"53449\",\"type\":\"Range1d\"},\"y_scale\":{\"id\":\"53453\",\"type\":\"LinearScale\"}},\"id\":\"53446\",\"subtype\":\"Figure\",\"type\":\"Plot\"},{\"attributes\":{\"data_source\":{\"id\":\"53489\",\"type\":\"ColumnDataSource\"},\"glyph\":{\"id\":\"53495\",\"type\":\"Circle\"},\"hover_glyph\":{\"id\":\"53497\",\"type\":\"Circle\"},\"muted_glyph\":null,\"nonselection_glyph\":{\"id\":\"53496\",\"type\":\"Circle\"},\"selection_glyph\":null,\"view\":{\"id\":\"53499\",\"type\":\"CDSView\"}},\"id\":\"53498\",\"type\":\"GlyphRenderer\"},{\"attributes\":{\"tile_source\":{\"id\":\"53445\",\"type\":\"WMTSTileSource\"}},\"id\":\"53480\",\"type\":\"TileRenderer\"},{\"attributes\":{\"formatter\":{\"id\":\"53458\",\"type\":\"MercatorTickFormatter\"},\"ticker\":{\"id\":\"53456\",\"type\":\"MercatorTicker\"},\"visible\":false},\"id\":\"53455\",\"type\":\"MercatorAxis\"},{\"attributes\":{},\"id\":\"53474\",\"type\":\"WheelZoomTool\"}],\"root_ids\":[\"53503\"]},\"title\":\"Bokeh Application\",\"version\":\"1.4.0\"}};\n",
       "  var render_items = [{\"docid\":\"4dd80b6b-1df6-4bc8-af0a-23cd339d15e4\",\"roots\":{\"53503\":\"4394b667-b52e-4f3f-94bb-73815f314a9c\"}}];\n",
       "  root.Bokeh.embed.embed_items_notebook(docs_json, render_items);\n",
       "\n",
       "  }\n",
       "  if (root.Bokeh !== undefined) {\n",
       "    embed_document(root);\n",
       "  } else {\n",
       "    var attempts = 0;\n",
       "    var timer = setInterval(function(root) {\n",
       "      if (root.Bokeh !== undefined) {\n",
       "        clearInterval(timer);\n",
       "        embed_document(root);\n",
       "      } else {\n",
       "        attempts++;\n",
       "        if (attempts > 100) {\n",
       "          clearInterval(timer);\n",
       "          console.log(\"Bokeh: ERROR: Unable to run BokehJS code because BokehJS library is missing\");\n",
       "        }\n",
       "      }\n",
       "    }, 10, root)\n",
       "  }\n",
       "})(window);"
      ],
      "application/vnd.bokehjs_exec.v0+json": ""
     },
     "metadata": {
      "application/vnd.bokehjs_exec.v0+json": {
       "id": "53503"
      }
     },
     "output_type": "display_data"
    }
   ],
   "source": [
    "from bokeh.plotting import figure, show, output_file, output_notebook, ColumnDataSource\n",
    "from bokeh.models import ColorBar, CustomJS\n",
    "from bokeh.layouts import grid\n",
    "from bokeh.tile_providers import get_provider, Vendors\n",
    "from bokeh.models.tools import WheelZoomTool, HoverTool\n",
    "from bokeh.transform import linear_cmap\n",
    "from bokeh.palettes import Spectral6, Viridis256\n",
    "from bokeh.models.widgets import RadioButtonGroup\n",
    "import pandas as pd\n",
    "\n",
    "bv_devices_id = ['82000169', '1600009C', '160000A9', '1600009B', '160000A7'] \n",
    "static_sensor_data = [{'deviceid': '1600009B','latitude': 45.653509,'longitude': 25.56612,  'eastern': 2846007.4599597272,'northern': 5724996.5941273},\n",
    "                      {'deviceid': '160000A7','latitude': 45.704032,'longitude': 25.640955, 'eastern': 2854338.0540532423,'northern': 5733046.333381937},\n",
    "                      {'deviceid': '160000A9','latitude': 45.6568,  'longitude': 25.5917,   'eastern': 2848855.0125342193,'northern': 5725520.722051452},\n",
    "                      {'deviceid': '1600009C','latitude': 45.6536,  'longitude': 25.599,    'eastern': 2849667.64481701,  'northern': 5725011.086463493},\n",
    "                      {'deviceid': '82000169','latitude': 45.645893, 'longitude': 25.599471,'eastern': 2849720.0762971737,'northern': 5723783.780513774}]\n",
    "\n",
    "opener = urllib.request.build_opener()\n",
    "opener.addheaders = [(\"X-User-id\", \"www\"), (\"X-User-hash\", \"global\")]\n",
    "devices = opener.open('https://data.uradmonitor.com/api/v1/devices')\n",
    "\n",
    "devices_list = json.loads(f'{devices.read().decode(\"utf-8\")}')\n",
    "bv_sensor_data = pd.DataFrame(columns = ['deviceid', 'pm1', 'pm25', 'pm10', 'latitude', 'longitude', 'eastern', 'northern', 'temperature', 'selection'])\n",
    "for device in devices_list:\n",
    "    if device['id'] in bv_devices_id:\n",
    "        E, N = LatLon_to_EN(device['latitude'], device['longitude'])\n",
    "        insert(bv_sensor_data, [device['id'], int(device['avg_pm1']), int(device['avg_pm25']), int(device['avg_pm10']), device['latitude'], device['longitude'], E, N, device['avg_temperature'], 'pm25'])\n",
    "        #for sensor_data in static_sensor_data:\n",
    "        #    sensor_data.update({'pm1': int(device['avg_pm1']), 'pm25': int(device['avg_pm25']), 'pm10': int(device['avg_pm10']), 'temperature': device['avg_temperature']})\n",
    "\n",
    "#json.dumps(static_sensor_data)\n",
    "                          \n",
    "tile_provider = get_provider(Vendors.STAMEN_TERRAIN)\n",
    "\n",
    "x_range=(2839667, 2864387)\n",
    "y_range=(5724182, 5733344)\n",
    "\n",
    "#custom_pallette = ['#2E7F18', '#45731E', '#675E24', '#8D472B', '#B13433', '#C82538']\n",
    "custom_pallette = ['#00FF00', '#7FFF00', '#FFFF00', '#FFFF00', '#FF0000', '#C82538']\n",
    "\n",
    "# range bounds supplied in web mercator coordinates\n",
    "p = figure(tools='pan,wheel_zoom,reset', plot_width=1200, plot_height=900, x_range=x_range, y_range=y_range,x_axis_type=\"mercator\", y_axis_type=\"mercator\")\n",
    "\n",
    "p.axis.visible = False\n",
    "p.xgrid.grid_line_color = None\n",
    "p.ygrid.grid_line_color = None\n",
    "\n",
    "p.add_tile(tile_provider)\n",
    "p.toolbar.active_scroll = p.select_one(WheelZoomTool)\n",
    "\n",
    "#source = ColumnDataSource(pd.DataFrame(static_sensor_data))\n",
    "source = ColumnDataSource(bv_sensor_data)\n",
    "\n",
    "\n",
    "# add callback to control \n",
    "callback = CustomJS(args=dict(p=p, source=source), code=\"\"\"\n",
    "            var urad_url = \"https://m9sdldu09a.execute-api.us-east-1.amazonaws.com/uradbvair\";\n",
    "            var req = new XMLHttpRequest();\n",
    "            req.responseType = 'json';\n",
    "            req.open('GET', urad_url, true);\n",
    "            active_option = cb_obj.labels[cb_obj.active];\n",
    "            req.onload  = function() {\n",
    "               var jsonResponse = req.response;\n",
    "               var pm1 = [];\n",
    "               var pm25 = [];\n",
    "               var pm10 = [];\n",
    "               var selection = [];\n",
    "               for (val of jsonResponse) {\n",
    "                  pm1.push(val['pm1']);\n",
    "                  pm25.push(val['pm25']);\n",
    "                  pm10.push(val['pm10']); \n",
    "                  selection.push(active_option);\n",
    "               }               \n",
    "               source.data['pm1'] = pm1;\n",
    "               source.data['pm25'] = pm25 ;\n",
    "               source.data['pm10'] = pm10; \n",
    "               source.data['selection'] = selection;\n",
    "               console.log(p);\n",
    "               // do something with jsonResponse\n",
    "            };\n",
    "            req.send(null);\n",
    "            source.change.emit();\n",
    "\"\"\")\n",
    "\n",
    "# def callback(source=source, window=None):\n",
    "#     print(source)\n",
    "#     pass\n",
    "\n",
    "radiobtn_group = RadioButtonGroup(labels=[\"pm1\", \"pm25\", \"pm10\"], callback = callback)\n",
    "\n",
    "mapper_pm = linear_cmap(field_name=source.data['selection'][0], palette=custom_pallette ,low=float(1) ,high=float(100))\n",
    "color_bar_pm = ColorBar(color_mapper=mapper_pm['transform'], width=10,  location=(0,0), title='CAQI')\n",
    "p.add_layout(color_bar_pm, 'right')\n",
    "\n",
    "p.circle(x='eastern', y='northern', size=source.data['selection'][0], alpha=0.5, line_color=mapper, color=mapper, hover_color=\"navy\", source=source)\n",
    "p.add_tools(HoverTool(\n",
    "    tooltips=[\n",
    "        ( 'pm1',   '@pm1' ),\n",
    "        ( 'pm25',  '@pm25'), # use @{ } for field names with spaces\n",
    "        ( 'pm10', '@pm10'      )\n",
    "    ],    \n",
    "\n",
    "    # display a tooltip whenever the cursor is vertically in line with a glyph\n",
    "    mode='vline'\n",
    "))   \n",
    "\n",
    "\n",
    "output_notebook()\n",
    "#output_file(\"index_2.html\", title = 'Brasov Air Pollution')\n",
    "gr = grid([radiobtn_group, p])\n",
    "show(gr)"
   ]
  },
  {
   "cell_type": "code",
   "execution_count": 230,
   "metadata": {},
   "outputs": [
    {
     "data": {
      "text/plain": [
       "'pm25'"
      ]
     },
     "execution_count": 230,
     "metadata": {},
     "output_type": "execute_result"
    }
   ],
   "source": [
    "source.data['selection'][0]"
   ]
  },
  {
   "cell_type": "code",
   "execution_count": 4,
   "metadata": {},
   "outputs": [],
   "source": [
    "x_range=(2839667, 2864387)\n",
    "y_range=(5724182, 5733344)"
   ]
  },
  {
   "cell_type": "code",
   "execution_count": 199,
   "metadata": {},
   "outputs": [
    {
     "data": {
      "text/html": [
       "<div>\n",
       "<style scoped>\n",
       "    .dataframe tbody tr th:only-of-type {\n",
       "        vertical-align: middle;\n",
       "    }\n",
       "\n",
       "    .dataframe tbody tr th {\n",
       "        vertical-align: top;\n",
       "    }\n",
       "\n",
       "    .dataframe thead th {\n",
       "        text-align: right;\n",
       "    }\n",
       "</style>\n",
       "<table border=\"1\" class=\"dataframe\">\n",
       "  <thead>\n",
       "    <tr style=\"text-align: right;\">\n",
       "      <th></th>\n",
       "      <th>deviceid</th>\n",
       "      <th>pm1</th>\n",
       "      <th>pm25</th>\n",
       "      <th>pm10</th>\n",
       "      <th>latitude</th>\n",
       "      <th>longitude</th>\n",
       "      <th>eastern</th>\n",
       "      <th>northern</th>\n",
       "      <th>temperature</th>\n",
       "    </tr>\n",
       "  </thead>\n",
       "  <tbody>\n",
       "    <tr>\n",
       "      <th>0</th>\n",
       "      <td>1600009B</td>\n",
       "      <td>14</td>\n",
       "      <td>20</td>\n",
       "      <td>23</td>\n",
       "      <td>45.653509</td>\n",
       "      <td>25.566120</td>\n",
       "      <td>2.846007e+06</td>\n",
       "      <td>5.724997e+06</td>\n",
       "      <td>11.49</td>\n",
       "    </tr>\n",
       "    <tr>\n",
       "      <th>1</th>\n",
       "      <td>1600009C</td>\n",
       "      <td>9</td>\n",
       "      <td>14</td>\n",
       "      <td>14</td>\n",
       "      <td>45.671800</td>\n",
       "      <td>25.600600</td>\n",
       "      <td>2.849846e+06</td>\n",
       "      <td>5.727910e+06</td>\n",
       "      <td>7.69</td>\n",
       "    </tr>\n",
       "    <tr>\n",
       "      <th>2</th>\n",
       "      <td>160000A7</td>\n",
       "      <td>10</td>\n",
       "      <td>24</td>\n",
       "      <td>30</td>\n",
       "      <td>45.704032</td>\n",
       "      <td>25.640955</td>\n",
       "      <td>2.854338e+06</td>\n",
       "      <td>5.733046e+06</td>\n",
       "      <td>9.64</td>\n",
       "    </tr>\n",
       "    <tr>\n",
       "      <th>3</th>\n",
       "      <td>160000A9</td>\n",
       "      <td>7</td>\n",
       "      <td>25</td>\n",
       "      <td>31</td>\n",
       "      <td>45.656800</td>\n",
       "      <td>25.591700</td>\n",
       "      <td>2.848855e+06</td>\n",
       "      <td>5.725521e+06</td>\n",
       "      <td>9.22</td>\n",
       "    </tr>\n",
       "    <tr>\n",
       "      <th>4</th>\n",
       "      <td>82000169</td>\n",
       "      <td>11</td>\n",
       "      <td>14</td>\n",
       "      <td>15</td>\n",
       "      <td>45.645893</td>\n",
       "      <td>25.599471</td>\n",
       "      <td>2.849720e+06</td>\n",
       "      <td>5.723784e+06</td>\n",
       "      <td>12.75</td>\n",
       "    </tr>\n",
       "  </tbody>\n",
       "</table>\n",
       "</div>"
      ],
      "text/plain": [
       "   deviceid pm1 pm25 pm10   latitude  longitude       eastern      northern  \\\n",
       "0  1600009B  14   20   23  45.653509  25.566120  2.846007e+06  5.724997e+06   \n",
       "1  1600009C   9   14   14  45.671800  25.600600  2.849846e+06  5.727910e+06   \n",
       "2  160000A7  10   24   30  45.704032  25.640955  2.854338e+06  5.733046e+06   \n",
       "3  160000A9   7   25   31  45.656800  25.591700  2.848855e+06  5.725521e+06   \n",
       "4  82000169  11   14   15  45.645893  25.599471  2.849720e+06  5.723784e+06   \n",
       "\n",
       "  temperature  \n",
       "0       11.49  \n",
       "1        7.69  \n",
       "2        9.64  \n",
       "3        9.22  \n",
       "4       12.75  "
      ]
     },
     "execution_count": 199,
     "metadata": {},
     "output_type": "execute_result"
    }
   ],
   "source": [
    "bv_sensor_data"
   ]
  },
  {
   "cell_type": "code",
   "execution_count": 6,
   "metadata": {},
   "outputs": [
    {
     "data": {
      "text/plain": [
       "(5723000, 5733000)"
      ]
     },
     "execution_count": 6,
     "metadata": {},
     "output_type": "execute_result"
    }
   ],
   "source": [
    "y_range"
   ]
  },
  {
   "cell_type": "code",
   "execution_count": 4,
   "metadata": {},
   "outputs": [],
   "source": [
    "def heatmap(d, bins=(100,100), smoothing=1.3, cmap='jet'):\n",
    "    def getx(pt):\n",
    "        return pt.coords[0][0]\n",
    "\n",
    "    def gety(pt):\n",
    "        return pt.coords[0][1]\n",
    "\n",
    "    x = list(d.geometry.apply(getx))\n",
    "    y = list(d.geometry.apply(gety))\n",
    "    heatmap, xedges, yedges = np.histogram2d(y, x, bins=bins)\n",
    "    extent = [yedges[0], yedges[-1], xedges[-1], xedges[0]]\n",
    "\n",
    "    logheatmap = np.log(heatmap)\n",
    "    logheatmap[np.isneginf(logheatmap)] = 0\n",
    "    logheatmap = ndimage.filters.gaussian_filter(logheatmap, smoothing, mode='nearest')\n",
    "    \n",
    "    plt.imshow(logheatmap, cmap=cmap, extent=extent)\n",
    "    plt.colorbar()\n",
    "    plt.gca().invert_yaxis()\n",
    "    plt.show()"
   ]
  },
  {
   "cell_type": "code",
   "execution_count": null,
   "metadata": {},
   "outputs": [],
   "source": [
    "pts = pd.DataFrame([1,2,3,4,5,6,7,8] , columns = ['pla'])\n",
    "heatmap(pts, bins=50, smoothing=1.5)"
   ]
  },
  {
   "cell_type": "code",
   "execution_count": 89,
   "metadata": {},
   "outputs": [
    {
     "data": {
      "text/plain": [
       "['25', '47', '46', '42', '17']"
      ]
     },
     "execution_count": 89,
     "metadata": {},
     "output_type": "execute_result"
    }
   ],
   "source": [
    "list(bv_sensor_data['pm10'])"
   ]
  },
  {
   "cell_type": "code",
   "execution_count": 82,
   "metadata": {},
   "outputs": [
    {
     "data": {
      "text/plain": [
       "[(45.653509, 25.56612),\n",
       " (45.704032, 25.640955),\n",
       " (45.6568, 25.5917),\n",
       " (45.6486, 25.6061),\n",
       " (45.645893, 25.599471)]"
      ]
     },
     "execution_count": 82,
     "metadata": {},
     "output_type": "execute_result"
    }
   ],
   "source": [
    "list(zip(bv_sensor_data['latitude'], bv_sensor_data['longitude']))"
   ]
  },
  {
   "cell_type": "code",
   "execution_count": 88,
   "metadata": {},
   "outputs": [
    {
     "data": {
      "text/plain": [
       "['25', '40', '36', '37', '15']"
      ]
     },
     "execution_count": 88,
     "metadata": {},
     "output_type": "execute_result"
    }
   ],
   "source": [
    "list(bv_sensor_data['pm25'])"
   ]
  },
  {
   "cell_type": "code",
   "execution_count": 94,
   "metadata": {},
   "outputs": [
    {
     "data": {
      "text/plain": [
       "'[{\"deviceid\":\"1600009B\",\"pm1\":\"16\",\"pm25\":\"25\",\"pm10\":\"25\",\"latitude\":45.653509,\"longitude\":25.56612,\"temperature\":\"18.69\"},{\"deviceid\":\"160000A7\",\"pm1\":\"18\",\"pm25\":\"40\",\"pm10\":\"47\",\"latitude\":45.704032,\"longitude\":25.640955,\"temperature\":\"13.28\"},{\"deviceid\":\"160000A9\",\"pm1\":\"16\",\"pm25\":\"36\",\"pm10\":\"46\",\"latitude\":45.6568,\"longitude\":25.5917,\"temperature\":\"12.79\"},{\"deviceid\":\"160000C3\",\"pm1\":\"19\",\"pm25\":\"37\",\"pm10\":\"42\",\"latitude\":45.6486,\"longitude\":25.6061,\"temperature\":\"13.03\"},{\"deviceid\":\"82000169\",\"pm1\":\"12\",\"pm25\":\"15\",\"pm10\":\"17\",\"latitude\":45.645893,\"longitude\":25.599471,\"temperature\":\"19.01\"}]'"
      ]
     },
     "execution_count": 94,
     "metadata": {},
     "output_type": "execute_result"
    }
   ],
   "source": [
    "bv_sensor_data.to_json(orient='records')"
   ]
  },
  {
   "cell_type": "code",
   "execution_count": 129,
   "metadata": {},
   "outputs": [
    {
     "data": {
      "text/html": [
       "<div>\n",
       "<style scoped>\n",
       "    .dataframe tbody tr th:only-of-type {\n",
       "        vertical-align: middle;\n",
       "    }\n",
       "\n",
       "    .dataframe tbody tr th {\n",
       "        vertical-align: top;\n",
       "    }\n",
       "\n",
       "    .dataframe thead th {\n",
       "        text-align: right;\n",
       "    }\n",
       "</style>\n",
       "<table border=\"1\" class=\"dataframe\">\n",
       "  <thead>\n",
       "    <tr style=\"text-align: right;\">\n",
       "      <th></th>\n",
       "      <th>deviceid</th>\n",
       "      <th>pm1</th>\n",
       "      <th>pm25</th>\n",
       "      <th>pm10</th>\n",
       "      <th>latitude</th>\n",
       "      <th>longitude</th>\n",
       "      <th>eastern</th>\n",
       "      <th>northern</th>\n",
       "      <th>temperature</th>\n",
       "    </tr>\n",
       "  </thead>\n",
       "  <tbody>\n",
       "    <tr>\n",
       "      <th>0</th>\n",
       "      <td>1600009B</td>\n",
       "      <td>16</td>\n",
       "      <td>25</td>\n",
       "      <td>25</td>\n",
       "      <td>45.653509</td>\n",
       "      <td>25.566120</td>\n",
       "      <td>2.846007e+06</td>\n",
       "      <td>5.724997e+06</td>\n",
       "      <td>18.69</td>\n",
       "    </tr>\n",
       "    <tr>\n",
       "      <th>1</th>\n",
       "      <td>160000A7</td>\n",
       "      <td>18</td>\n",
       "      <td>40</td>\n",
       "      <td>47</td>\n",
       "      <td>45.704032</td>\n",
       "      <td>25.640955</td>\n",
       "      <td>2.854338e+06</td>\n",
       "      <td>5.733046e+06</td>\n",
       "      <td>13.28</td>\n",
       "    </tr>\n",
       "    <tr>\n",
       "      <th>2</th>\n",
       "      <td>160000A9</td>\n",
       "      <td>16</td>\n",
       "      <td>36</td>\n",
       "      <td>46</td>\n",
       "      <td>45.656800</td>\n",
       "      <td>25.591700</td>\n",
       "      <td>2.848855e+06</td>\n",
       "      <td>5.725521e+06</td>\n",
       "      <td>12.79</td>\n",
       "    </tr>\n",
       "    <tr>\n",
       "      <th>3</th>\n",
       "      <td>160000C3</td>\n",
       "      <td>19</td>\n",
       "      <td>37</td>\n",
       "      <td>42</td>\n",
       "      <td>45.648600</td>\n",
       "      <td>25.606100</td>\n",
       "      <td>2.850458e+06</td>\n",
       "      <td>5.724215e+06</td>\n",
       "      <td>13.03</td>\n",
       "    </tr>\n",
       "    <tr>\n",
       "      <th>4</th>\n",
       "      <td>82000169</td>\n",
       "      <td>12</td>\n",
       "      <td>15</td>\n",
       "      <td>17</td>\n",
       "      <td>45.645893</td>\n",
       "      <td>25.599471</td>\n",
       "      <td>2.849720e+06</td>\n",
       "      <td>5.723784e+06</td>\n",
       "      <td>19.01</td>\n",
       "    </tr>\n",
       "  </tbody>\n",
       "</table>\n",
       "</div>"
      ],
      "text/plain": [
       "   deviceid pm1 pm25 pm10   latitude  longitude       eastern      northern  \\\n",
       "0  1600009B  16   25   25  45.653509  25.566120  2.846007e+06  5.724997e+06   \n",
       "1  160000A7  18   40   47  45.704032  25.640955  2.854338e+06  5.733046e+06   \n",
       "2  160000A9  16   36   46  45.656800  25.591700  2.848855e+06  5.725521e+06   \n",
       "3  160000C3  19   37   42  45.648600  25.606100  2.850458e+06  5.724215e+06   \n",
       "4  82000169  12   15   17  45.645893  25.599471  2.849720e+06  5.723784e+06   \n",
       "\n",
       "  temperature  \n",
       "0       18.69  \n",
       "1       13.28  \n",
       "2       12.79  \n",
       "3       13.03  \n",
       "4       19.01  "
      ]
     },
     "execution_count": 129,
     "metadata": {},
     "output_type": "execute_result"
    }
   ],
   "source": [
    "bv_sensor_data"
   ]
  },
  {
   "cell_type": "code",
   "execution_count": 121,
   "metadata": {},
   "outputs": [
    {
     "data": {
      "text/plain": [
       "['#3288bd', '#99d594', '#e6f598', '#fee08b', '#fc8d59', '#d53e4f']"
      ]
     },
     "execution_count": 121,
     "metadata": {},
     "output_type": "execute_result"
    }
   ],
   "source": [
    "Spectral6"
   ]
  },
  {
   "cell_type": "code",
   "execution_count": 154,
   "metadata": {},
   "outputs": [],
   "source": [
    "dic = bv_sensor_data.to_dict(orient='records')"
   ]
  },
  {
   "cell_type": "code",
   "execution_count": 156,
   "metadata": {},
   "outputs": [
    {
     "data": {
      "text/plain": [
       "list"
      ]
     },
     "execution_count": 156,
     "metadata": {},
     "output_type": "execute_result"
    }
   ],
   "source": [
    "type(dic)"
   ]
  },
  {
   "cell_type": "code",
   "execution_count": null,
   "metadata": {},
   "outputs": [],
   "source": []
  }
 ],
 "metadata": {
  "kernelspec": {
   "display_name": "Python 3",
   "language": "python",
   "name": "python3"
  },
  "language_info": {
   "codemirror_mode": {
    "name": "ipython",
    "version": 3
   },
   "file_extension": ".py",
   "mimetype": "text/x-python",
   "name": "python",
   "nbconvert_exporter": "python",
   "pygments_lexer": "ipython3",
   "version": "3.7.2"
  }
 },
 "nbformat": 4,
 "nbformat_minor": 4
}
