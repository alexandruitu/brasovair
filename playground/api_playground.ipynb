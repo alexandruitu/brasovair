{
 "cells": [
  {
   "cell_type": "code",
   "execution_count": 54,
   "metadata": {},
   "outputs": [],
   "source": [
    "import requests\n",
    "import json\n",
    "import pandas as pd"
   ]
  },
  {
   "cell_type": "code",
   "execution_count": 143,
   "metadata": {},
   "outputs": [],
   "source": [
    "# request headers for the subscription\n",
    "#headers = {\"X-User-id\": \"6278\", \"X-User-hash\":\"a235942bff158e1027d455a9d36d2fa3\"}\n",
    "headers = {\"X-User-id\": \"www\", \"X-User-hash\":\"global\"}\n",
    "bv_devices_id = ['82000169', '160000C3', '160000A9', '1600009B', '160000A7'] "
   ]
  },
  {
   "cell_type": "code",
   "execution_count": 144,
   "metadata": {},
   "outputs": [],
   "source": [
    "def make_uradmonitor_request(url: str, headers):\n",
    "    response = requests.get(url, headers = headers)\n",
    "    try:\n",
    "        response_json = json.loads(response.content.decode(\"utf-8\"))\n",
    "    except Exception as e:\n",
    "        print (e)\n",
    "        return str(e)\n",
    "\n",
    "    return response_json\n",
    "    "
   ]
  },
  {
   "cell_type": "markdown",
   "metadata": {},
   "source": [
    "### 1. Get devices list"
   ]
  },
  {
   "cell_type": "code",
   "execution_count": 145,
   "metadata": {},
   "outputs": [],
   "source": [
    "devices_data = make_uradmonitor_request('https://data.uradmonitor.com/api/v1/devices/', headers = headers)"
   ]
  },
  {
   "cell_type": "code",
   "execution_count": 146,
   "metadata": {},
   "outputs": [],
   "source": [
    "brasov_devices = [device for device in devices_data if device['id'] in devices_id]\n",
    "pm1 =  [{'pm1': brasov_device['avg_pm1'], 'latitude':brasov_device['latitude'], 'longitude':brasov_device['longitude'], 'avg_temperature': brasov_device['avg_temperature']} for brasov_device in brasov_devices]\n",
    "pm25 = [{'pm25': brasov_device['avg_pm25'], 'latitude':brasov_device['latitude'], 'longitude':brasov_device['longitude']} for brasov_device in brasov_devices]\n",
    "pm10 = [{'pm10': brasov_device['avg_pm10'], 'latitude':brasov_device['latitude'], 'longitude':brasov_device['longitude']} for brasov_device in brasov_devices]"
   ]
  },
  {
   "cell_type": "code",
   "execution_count": 148,
   "metadata": {},
   "outputs": [],
   "source": [
    "def insert(df, row):\n",
    "    insert_loc = df.index.max()\n",
    "\n",
    "    if pd.isna(insert_loc):\n",
    "        df.loc[0] = row\n",
    "    else:\n",
    "        df.loc[insert_loc + 1] = row"
   ]
  },
  {
   "cell_type": "code",
   "execution_count": 150,
   "metadata": {},
   "outputs": [],
   "source": [
    "bv_sensor_data = pd.DataFrame(columns = ['deviceid', 'pm1', 'pm25', 'pm10', 'latitude', 'longitude', 'eastern', 'northern', 'temperature'])\n",
    "for idx, device in enumerate(devices_list):\n",
    "    if device['id'] in bv_devices_id:\n",
    "        E, N = LatLon_to_EN(device['latitude'], device['longitude'])\n",
    "        insert(bv_sensor_data, [device['id'], int(device['avg_pm1']), int(device['avg_pm25']), int(device['avg_pm10']), device['latitude'], device['longitude'], E, N, device['avg_temperature']])\n"
   ]
  },
  {
   "cell_type": "code",
   "execution_count": 151,
   "metadata": {},
   "outputs": [
    {
     "data": {
      "text/html": [
       "<div>\n",
       "<style scoped>\n",
       "    .dataframe tbody tr th:only-of-type {\n",
       "        vertical-align: middle;\n",
       "    }\n",
       "\n",
       "    .dataframe tbody tr th {\n",
       "        vertical-align: top;\n",
       "    }\n",
       "\n",
       "    .dataframe thead th {\n",
       "        text-align: right;\n",
       "    }\n",
       "</style>\n",
       "<table border=\"1\" class=\"dataframe\">\n",
       "  <thead>\n",
       "    <tr style=\"text-align: right;\">\n",
       "      <th></th>\n",
       "      <th>deviceid</th>\n",
       "      <th>pm1</th>\n",
       "      <th>pm25</th>\n",
       "      <th>pm10</th>\n",
       "      <th>latitude</th>\n",
       "      <th>longitude</th>\n",
       "      <th>eastern</th>\n",
       "      <th>northern</th>\n",
       "      <th>temperature</th>\n",
       "    </tr>\n",
       "  </thead>\n",
       "  <tbody>\n",
       "    <tr>\n",
       "      <th>0</th>\n",
       "      <td>1600009B</td>\n",
       "      <td>16</td>\n",
       "      <td>25</td>\n",
       "      <td>25</td>\n",
       "      <td>45.653509</td>\n",
       "      <td>25.566120</td>\n",
       "      <td>2.846007e+06</td>\n",
       "      <td>5.724997e+06</td>\n",
       "      <td>18.69</td>\n",
       "    </tr>\n",
       "    <tr>\n",
       "      <th>1</th>\n",
       "      <td>160000A7</td>\n",
       "      <td>18</td>\n",
       "      <td>40</td>\n",
       "      <td>47</td>\n",
       "      <td>45.704032</td>\n",
       "      <td>25.640955</td>\n",
       "      <td>2.854338e+06</td>\n",
       "      <td>5.733046e+06</td>\n",
       "      <td>13.28</td>\n",
       "    </tr>\n",
       "    <tr>\n",
       "      <th>2</th>\n",
       "      <td>160000A9</td>\n",
       "      <td>16</td>\n",
       "      <td>36</td>\n",
       "      <td>46</td>\n",
       "      <td>45.656800</td>\n",
       "      <td>25.591700</td>\n",
       "      <td>2.848855e+06</td>\n",
       "      <td>5.725521e+06</td>\n",
       "      <td>12.79</td>\n",
       "    </tr>\n",
       "    <tr>\n",
       "      <th>3</th>\n",
       "      <td>160000C3</td>\n",
       "      <td>19</td>\n",
       "      <td>37</td>\n",
       "      <td>42</td>\n",
       "      <td>45.648600</td>\n",
       "      <td>25.606100</td>\n",
       "      <td>2.850458e+06</td>\n",
       "      <td>5.724215e+06</td>\n",
       "      <td>13.03</td>\n",
       "    </tr>\n",
       "    <tr>\n",
       "      <th>4</th>\n",
       "      <td>82000169</td>\n",
       "      <td>12</td>\n",
       "      <td>15</td>\n",
       "      <td>17</td>\n",
       "      <td>45.645893</td>\n",
       "      <td>25.599471</td>\n",
       "      <td>2.849720e+06</td>\n",
       "      <td>5.723784e+06</td>\n",
       "      <td>19.01</td>\n",
       "    </tr>\n",
       "  </tbody>\n",
       "</table>\n",
       "</div>"
      ],
      "text/plain": [
       "   deviceid pm1 pm25 pm10   latitude  longitude       eastern      northern  \\\n",
       "0  1600009B  16   25   25  45.653509  25.566120  2.846007e+06  5.724997e+06   \n",
       "1  160000A7  18   40   47  45.704032  25.640955  2.854338e+06  5.733046e+06   \n",
       "2  160000A9  16   36   46  45.656800  25.591700  2.848855e+06  5.725521e+06   \n",
       "3  160000C3  19   37   42  45.648600  25.606100  2.850458e+06  5.724215e+06   \n",
       "4  82000169  12   15   17  45.645893  25.599471  2.849720e+06  5.723784e+06   \n",
       "\n",
       "  temperature  \n",
       "0       18.69  \n",
       "1       13.28  \n",
       "2       12.79  \n",
       "3       13.03  \n",
       "4       19.01  "
      ]
     },
     "execution_count": 151,
     "metadata": {},
     "output_type": "execute_result"
    }
   ],
   "source": [
    "bv_sensor_data"
   ]
  },
  {
   "cell_type": "markdown",
   "metadata": {},
   "source": [
    "### 2. Get device sensors list"
   ]
  },
  {
   "cell_type": "code",
   "execution_count": 32,
   "metadata": {},
   "outputs": [],
   "source": [
    "devices_id = [device['id'] for device in devices_list ]"
   ]
  },
  {
   "cell_type": "code",
   "execution_count": 34,
   "metadata": {},
   "outputs": [],
   "source": [
    "available_sensors = [make_uradmonitor_request(f'https://data.uradmonitor.com/api/v1/devices/{id}', headers = headers) for id in devices_id]"
   ]
  },
  {
   "cell_type": "markdown",
   "metadata": {},
   "source": [
    "### 3. Get detailed device data"
   ]
  },
  {
   "cell_type": "code",
   "execution_count": null,
   "metadata": {},
   "outputs": [],
   "source": [
    "start_interval = 600\n",
    "stop_interval = 480\n",
    "sensor_values = dict()\n",
    "for device_id in devices_id:\n",
    "    sensor_data = [make_uradmonitor_request(f'https://data.uradmonitor.com/api/v1/devices/{device_id}/{available_sensors data for ]\n",
    "    sensor_data = make_uradmonitor_request(f'https://data.uradmonitor.com/api/v1/devices/{device_id}/{available_sensors[0][\"temperature\"]}/{start_interval}/{stop_interval}',headers = headers)\n",
    "sensor_data"
   ]
  },
  {
   "cell_type": "code",
   "execution_count": null,
   "metadata": {},
   "outputs": [],
   "source": [
    "for key in available_sensors[0].keys():\n",
    "    print(key)"
   ]
  },
  {
   "cell_type": "code",
   "execution_count": null,
   "metadata": {},
   "outputs": [],
   "source": [
    "available_sensors"
   ]
  },
  {
   "cell_type": "code",
   "execution_count": 97,
   "metadata": {},
   "outputs": [],
   "source": [
    "sensor_data_global = dict()\n",
    "for device_id in devices_id:\n",
    "    for sensor in available_sensors:\n",
    "        sensor_data = [{sensor_type: make_uradmonitor_request(f'https://data.uradmonitor.com/api/v1/devices/{device_id}/{sensor_type}/{start_interval}', headers=headers)} for sensor_type in sensor.keys()]\n",
    "    sensor_data_global.update({device_id:sensor_data})"
   ]
  },
  {
   "cell_type": "code",
   "execution_count": null,
   "metadata": {},
   "outputs": [],
   "source": [
    "sensor_data_global"
   ]
  },
  {
   "cell_type": "code",
   "execution_count": 46,
   "metadata": {},
   "outputs": [],
   "source": [
    "import urllib.request\n",
    "opener = urllib.request.build_opener()\n",
    "opener.addheaders = [(\"X-User-id\", \"6378\"), (\"X-User-hash\", \"e3e7cbb6623b3e6a4504a2a258da07f1\")]\n",
    "devices = opener.open('https://data.uradmonitor.com/api/v1/devices')"
   ]
  },
  {
   "cell_type": "code",
   "execution_count": 47,
   "metadata": {},
   "outputs": [],
   "source": [
    "import json\n",
    "js = json.loads(f\"{devices.read().decode('utf-8')}\")"
   ]
  },
  {
   "cell_type": "code",
   "execution_count": 48,
   "metadata": {},
   "outputs": [
    {
     "data": {
      "text/plain": [
       "'{\"id\": \"82000156\", \"timefirst\": \"1580763711\", \"timelast\": \"1581573784\", \"timelocal\": \"240\", \"latitude\": 45.700884, \"longitude\": 26.1063, \"altitude\": 470.5, \"speed\": 0, \"city\": \"Harman\", \"country\": \"RO\", \"placement\": \"1\", \"versionsw\": \"74\", \"versionhw\": \"108\", \"status\": null, \"mobile\": null, \"detector\": \"SI29BG\", \"factor\": 0.01, \"note\": \"\", \"picture\": \"\", \"avg_timelocal\": \"750\", \"avg_temperature\": \"21.94\", \"avg_pressure\": \"95778\", \"avg_humidity\": \"43.91\", \"avg_voc\": \"110909\", \"min_voc\": null, \"max_voc\": null, \"avg_noise\": \"53.05\", \"avg_co2\": \"1103\", \"avg_ch2o\": \"101\", \"avg_o3\": \"20\", \"avg_pm1\": \"0\", \"avg_pm25\": \"0\", \"avg_pm10\": \"0\"}'"
      ]
     },
     "execution_count": 48,
     "metadata": {},
     "output_type": "execute_result"
    }
   ],
   "source": [
    "json.dumps(js[0])"
   ]
  },
  {
   "cell_type": "code",
   "execution_count": 19,
   "metadata": {},
   "outputs": [
    {
     "data": {
      "text/plain": [
       "'[{\"id\":\"4100000A\",\"timefirst\":\"1443263535\",\"timelast\":\"1565548127\",\"timelocal\":\"334740\",\"latitude\":47.677424999999999,\"longitude\":22.475179000000001,\"altitude\":105.09999999999999,\"speed\":0,\"city\":\"Carei\",\"country\":\"RO\",\"placement\":\"0\",\"versionsw\":\"126\",\"versionhw\":\"100\",\"status\":null,\"mobile\":null,\"detector\":\"SBM20\",\"factor\":0.0063150000000000003,\"note\":\"\",\"picture\":null,\"avg_timelocal\":\"291540\",\"avg_temperature\":\"26.98\",\"avg_pressure\":\"100071\",\"avg_cpm\":\"21\",\"avg_voltage\":\"380.14\",\"avg_duty\":\"557.86\"},{\"id\":\"82000034\",\"timefirst\":\"1476731292\",\"timelast\":\"1581601282\",\"timelocal\":\"271500\",\"latitude\":46.072557000000003,\"longitude\":23.580666000000001,\"altitude\":245.09999999999999,\"speed\":4.1600000000000001,\"city\":\"Alba Iulia\",\"country\":\"RO\",\"placement\":\"0\",\"versionsw\":\"122\",\"versionhw\":\"103\",\"status\":\"1\",\"mobile\":\"1\",\"detector\":\"SI29BG\",\"factor\":0.01,\"note\":\"\",\"picture\":null,\"avg_timelocal\":\"270955\",\"avg_temperature\":\"18.37\",\"avg_pressure\":\"99687\",\"avg_humidity\":\"27.65\",\"avg_voc\":\"1489663\",\"min_voc\":null,\"max_voc\":null,\"avg_co2\":\"473\",\"avg_ch2o\":\"0\",\"avg_pm25\":\"38\",\"avg_cpm\":\"11\",\"avg_voltage\":\"379.89\",\"avg_duty\":\"205.00\"}]'"
      ]
     },
     "execution_count": 19,
     "metadata": {},
     "output_type": "execute_result"
    }
   ],
   "source": [
    "res"
   ]
  },
  {
   "cell_type": "code",
   "execution_count": 142,
   "metadata": {},
   "outputs": [
    {
     "data": {
      "text/html": [
       "\n",
       "\n",
       "\n",
       "\n",
       "\n",
       "\n",
       "  <div class=\"bk-root\" id=\"c16d5c2f-6434-4808-8b46-0091d454c6af\" data-root-id=\"11077\"></div>\n"
      ]
     },
     "metadata": {},
     "output_type": "display_data"
    },
    {
     "data": {
      "application/javascript": [
       "(function(root) {\n",
       "  function embed_document(root) {\n",
       "    \n",
       "  var docs_json = {\"3227797b-af74-4845-98ce-17240b2b5a4f\":{\"roots\":{\"references\":[{\"attributes\":{\"below\":[{\"id\":\"11086\",\"type\":\"MercatorAxis\"}],\"center\":[{\"id\":\"11094\",\"type\":\"Grid\"},{\"id\":\"11103\",\"type\":\"Grid\"}],\"left\":[{\"id\":\"11095\",\"type\":\"MercatorAxis\"}],\"plot_height\":900,\"plot_width\":1200,\"renderers\":[{\"id\":\"11111\",\"type\":\"TileRenderer\"},{\"id\":\"11126\",\"type\":\"GlyphRenderer\"}],\"right\":[{\"id\":\"11128\",\"type\":\"ColorBar\"}],\"title\":{\"id\":\"11114\",\"type\":\"Title\"},\"toolbar\":{\"id\":\"11107\",\"type\":\"Toolbar\"},\"x_range\":{\"id\":\"11078\",\"type\":\"Range1d\"},\"x_scale\":{\"id\":\"11082\",\"type\":\"LinearScale\"},\"y_range\":{\"id\":\"11080\",\"type\":\"Range1d\"},\"y_scale\":{\"id\":\"11084\",\"type\":\"LinearScale\"}},\"id\":\"11077\",\"subtype\":\"Figure\",\"type\":\"Plot\"},{\"attributes\":{\"attribution\":\"Map tiles by <a href=\\\"https://stamen.com\\\">Stamen Design</a>, under <a href=\\\"https://creativecommons.org/licenses/by/3.0\\\">CC BY 3.0</a>. Data by <a href=\\\"https://openstreetmap.org\\\">OpenStreetMap</a>, under <a href=\\\"https://creativecommons.org/licenses/by-sa/3.0\\\">CC BY SA</a>.\",\"url\":\"http://tile.stamen.com/terrain/{Z}/{X}/{Y}.png\"},\"id\":\"11076\",\"type\":\"WMTSTileSource\"},{\"attributes\":{\"source\":{\"id\":\"11120\",\"type\":\"ColumnDataSource\"}},\"id\":\"11127\",\"type\":\"CDSView\"},{\"attributes\":{\"active_drag\":\"auto\",\"active_inspect\":\"auto\",\"active_multi\":null,\"active_scroll\":{\"id\":\"11105\",\"type\":\"WheelZoomTool\"},\"active_tap\":\"auto\",\"tools\":[{\"id\":\"11104\",\"type\":\"PanTool\"},{\"id\":\"11105\",\"type\":\"WheelZoomTool\"},{\"id\":\"11106\",\"type\":\"ResetTool\"},{\"id\":\"11129\",\"type\":\"HoverTool\"}]},\"id\":\"11107\",\"type\":\"Toolbar\"},{\"attributes\":{\"callback\":null,\"data\":{\"deviceid\":[\"1600009B\",\"160000A7\",\"160000A9\",\"160000C3\",\"82000169\"],\"eastern\":{\"__ndarray__\":\"2fXfupu2RUF2N+sG4cZFQae4moErvEVBaJewAU2/RUEVG8QJ3L1FQQ==\",\"dtype\":\"float64\",\"shape\":[5]},\"index\":[0,1,2,3,4],\"latitude\":{\"__ndarray__\":\"IlLTLqbTRkAyq3e4HdpGQKMBvAUS1EZAwhcmUwXTRkCQ2y+frNJGQA==\",\"dtype\":\"float64\",\"shape\":[5]},\"longitude\":{\"__ndarray__\":\"jZyFPe2QOUArNXugFaQ5QA8LtaZ5lzlACRueXimbOUCC5nPudpk5QA==\",\"dtype\":\"float64\",\"shape\":[5]},\"northern\":{\"__ndarray__\":\"gy4GJtHWVUExIVaVrd5VQUsXNi5U11VB16e0tQ3WVUEL8PPxodVVQQ==\",\"dtype\":\"float64\",\"shape\":[5]},\"pm1\":[16,18,16,19,12],\"pm10\":[25,47,46,42,17],\"pm25\":[25,40,36,37,15],\"temperature\":[\"18.69\",\"13.28\",\"12.79\",\"13.03\",\"19.01\"]},\"selected\":{\"id\":\"11392\",\"type\":\"Selection\"},\"selection_policy\":{\"id\":\"11391\",\"type\":\"UnionRenderers\"}},\"id\":\"11120\",\"type\":\"ColumnDataSource\"},{\"attributes\":{\"tile_source\":{\"id\":\"11076\",\"type\":\"WMTSTileSource\"}},\"id\":\"11111\",\"type\":\"TileRenderer\"},{\"attributes\":{\"callback\":null,\"mode\":\"vline\",\"tooltips\":[[\"pm1\",\"@pm1\"],[\"pm2.5\",\"@pm25\"],[\"pm10\",\"@pm10\"]]},\"id\":\"11129\",\"type\":\"HoverTool\"},{\"attributes\":{\"dimension\":1,\"grid_line_color\":null,\"ticker\":{\"id\":\"11096\",\"type\":\"MercatorTicker\"}},\"id\":\"11103\",\"type\":\"Grid\"},{\"attributes\":{},\"id\":\"11389\",\"type\":\"BasicTickFormatter\"},{\"attributes\":{},\"id\":\"11391\",\"type\":\"UnionRenderers\"},{\"attributes\":{},\"id\":\"11390\",\"type\":\"BasicTicker\"},{\"attributes\":{\"color_mapper\":{\"id\":\"11121\",\"type\":\"LinearColorMapper\"},\"formatter\":{\"id\":\"11389\",\"type\":\"BasicTickFormatter\"},\"location\":[0,0],\"ticker\":{\"id\":\"11390\",\"type\":\"BasicTicker\"},\"width\":8},\"id\":\"11128\",\"type\":\"ColorBar\"},{\"attributes\":{},\"id\":\"11392\",\"type\":\"Selection\"},{\"attributes\":{\"dimension\":\"lon\"},\"id\":\"11087\",\"type\":\"MercatorTicker\"},{\"attributes\":{\"fill_alpha\":{\"value\":0.5},\"fill_color\":{\"field\":\"pm25\",\"transform\":{\"id\":\"11121\",\"type\":\"LinearColorMapper\"}},\"line_alpha\":{\"value\":0.5},\"line_color\":{\"field\":\"pm25\",\"transform\":{\"id\":\"11121\",\"type\":\"LinearColorMapper\"}},\"size\":{\"field\":\"pm25\",\"units\":\"screen\"},\"x\":{\"field\":\"eastern\"},\"y\":{\"field\":\"northern\"}},\"id\":\"11123\",\"type\":\"Circle\"},{\"attributes\":{},\"id\":\"11084\",\"type\":\"LinearScale\"},{\"attributes\":{},\"id\":\"11104\",\"type\":\"PanTool\"},{\"attributes\":{\"formatter\":{\"id\":\"11098\",\"type\":\"MercatorTickFormatter\"},\"ticker\":{\"id\":\"11096\",\"type\":\"MercatorTicker\"},\"visible\":false},\"id\":\"11095\",\"type\":\"MercatorAxis\"},{\"attributes\":{\"formatter\":{\"id\":\"11089\",\"type\":\"MercatorTickFormatter\"},\"ticker\":{\"id\":\"11087\",\"type\":\"MercatorTicker\"},\"visible\":false},\"id\":\"11086\",\"type\":\"MercatorAxis\"},{\"attributes\":{\"text\":\"\"},\"id\":\"11114\",\"type\":\"Title\"},{\"attributes\":{},\"id\":\"11105\",\"type\":\"WheelZoomTool\"},{\"attributes\":{\"grid_line_color\":null,\"ticker\":{\"id\":\"11087\",\"type\":\"MercatorTicker\"}},\"id\":\"11094\",\"type\":\"Grid\"},{\"attributes\":{},\"id\":\"11106\",\"type\":\"ResetTool\"},{\"attributes\":{},\"id\":\"11082\",\"type\":\"LinearScale\"},{\"attributes\":{\"dimension\":\"lat\"},\"id\":\"11098\",\"type\":\"MercatorTickFormatter\"},{\"attributes\":{\"fill_alpha\":{\"value\":0.1},\"fill_color\":{\"value\":\"#1f77b4\"},\"line_alpha\":{\"value\":0.1},\"line_color\":{\"value\":\"#1f77b4\"},\"size\":{\"field\":\"pm25\",\"units\":\"screen\"},\"x\":{\"field\":\"eastern\"},\"y\":{\"field\":\"northern\"}},\"id\":\"11124\",\"type\":\"Circle\"},{\"attributes\":{\"callback\":null,\"end\":2864387,\"start\":2839667},\"id\":\"11078\",\"type\":\"Range1d\"},{\"attributes\":{\"fill_color\":{\"value\":\"navy\"},\"line_color\":{\"value\":\"navy\"},\"size\":{\"field\":\"pm25\",\"units\":\"screen\"},\"x\":{\"field\":\"eastern\"},\"y\":{\"field\":\"northern\"}},\"id\":\"11125\",\"type\":\"Circle\"},{\"attributes\":{\"dimension\":\"lat\"},\"id\":\"11096\",\"type\":\"MercatorTicker\"},{\"attributes\":{\"high\":40.0,\"low\":15.0,\"palette\":[\"#2E7F18\",\"#45731E\",\"#675E24\",\"#8D472B\",\"#B13433\",\"#C82538\"]},\"id\":\"11121\",\"type\":\"LinearColorMapper\"},{\"attributes\":{\"data_source\":{\"id\":\"11120\",\"type\":\"ColumnDataSource\"},\"glyph\":{\"id\":\"11123\",\"type\":\"Circle\"},\"hover_glyph\":{\"id\":\"11125\",\"type\":\"Circle\"},\"muted_glyph\":null,\"nonselection_glyph\":{\"id\":\"11124\",\"type\":\"Circle\"},\"selection_glyph\":null,\"view\":{\"id\":\"11127\",\"type\":\"CDSView\"}},\"id\":\"11126\",\"type\":\"GlyphRenderer\"},{\"attributes\":{\"dimension\":\"lon\"},\"id\":\"11089\",\"type\":\"MercatorTickFormatter\"},{\"attributes\":{\"callback\":null,\"end\":5733344,\"start\":5724182},\"id\":\"11080\",\"type\":\"Range1d\"}],\"root_ids\":[\"11077\"]},\"title\":\"Bokeh Application\",\"version\":\"1.4.0\"}};\n",
       "  var render_items = [{\"docid\":\"3227797b-af74-4845-98ce-17240b2b5a4f\",\"roots\":{\"11077\":\"c16d5c2f-6434-4808-8b46-0091d454c6af\"}}];\n",
       "  root.Bokeh.embed.embed_items_notebook(docs_json, render_items);\n",
       "\n",
       "  }\n",
       "  if (root.Bokeh !== undefined) {\n",
       "    embed_document(root);\n",
       "  } else {\n",
       "    var attempts = 0;\n",
       "    var timer = setInterval(function(root) {\n",
       "      if (root.Bokeh !== undefined) {\n",
       "        clearInterval(timer);\n",
       "        embed_document(root);\n",
       "      } else {\n",
       "        attempts++;\n",
       "        if (attempts > 100) {\n",
       "          clearInterval(timer);\n",
       "          console.log(\"Bokeh: ERROR: Unable to run BokehJS code because BokehJS library is missing\");\n",
       "        }\n",
       "      }\n",
       "    }, 10, root)\n",
       "  }\n",
       "})(window);"
      ],
      "application/vnd.bokehjs_exec.v0+json": ""
     },
     "metadata": {
      "application/vnd.bokehjs_exec.v0+json": {
       "id": "11077"
      }
     },
     "output_type": "display_data"
    }
   ],
   "source": [
    "from bokeh.plotting import figure, show, output_file, output_notebook, ColumnDataSource\n",
    "from bokeh.models import ColorBar\n",
    "from bokeh.tile_providers import get_provider, Vendors\n",
    "from bokeh.models.tools import WheelZoomTool, HoverTool\n",
    "from bokeh.transform import linear_cmap\n",
    "from bokeh.palettes import Spectral6, Viridis256\n",
    "from pyproj import Proj, transform\n",
    "import pandas as pd\n",
    "\n",
    "# urad_sensors = [(45.6484, 25.5990), (45.6538, 25.5641), (45.6601, 25.6172), (45.7059, 25.6414)]\n",
    "#urad_sensors = list(bv_sensor_data['deviceid'])\n",
    "\n",
    "\n",
    "def LatLon_to_EN(lat, lon):\n",
    "    try:\n",
    "      easting, northing = transform( Proj('epsg:4326'), Proj('epsg:3857'), lat, lon) # from WGS-84 to Web Mercator Easting/Northing\n",
    "      return easting, northing\n",
    "    except:\n",
    "      return None, None\n",
    "\n",
    "bv_sensor_data = pd.DataFrame(columns = ['deviceid', 'pm1', 'pm25', 'pm10', 'latitude', 'longitude', 'eastern', 'northern', 'temperature'])\n",
    "for idx, device in enumerate(devices_list):\n",
    "    if device['id'] in bv_devices_id:\n",
    "        E, N = LatLon_to_EN(device['latitude'], device['longitude'])\n",
    "        insert(bv_sensor_data, [device['id'], int(device['avg_pm1']), int(device['avg_pm25']), int(device['avg_pm10']), device['latitude'], device['longitude'], E, N, device['avg_temperature']])\n",
    "        \n",
    "urad_coordinates_EN = [LatLon_to_EN(urad_sensor[0], urad_sensor[1]) for urad_sensor in list(zip(bv_sensor_data['latitude'], bv_sensor_data['longitude']))]\n",
    "tile_provider = get_provider(Vendors.STAMEN_TERRAIN)\n",
    "\n",
    "x_range=(2839667, 2864387)\n",
    "y_range=(5724182, 5733344)\n",
    "\n",
    "custom_pallette = ['#2E7F18', '#45731E', '#675E24', '#8D472B', '#B13433', '#C82538']\n",
    "#Vendors.\n",
    "# range bounds supplied in web mercator coordinates\n",
    "p = figure(tools='pan,wheel_zoom,reset', plot_width=1200, plot_height=900, x_range=x_range, y_range=y_range,x_axis_type=\"mercator\", y_axis_type=\"mercator\")\n",
    "\n",
    "p.axis.visible = False\n",
    "p.xgrid.grid_line_color = None\n",
    "p.ygrid.grid_line_color = None\n",
    "\n",
    "p.add_tile(tile_provider)\n",
    "p.toolbar.active_scroll = p.select_one(WheelZoomTool)\n",
    "\n",
    "source = ColumnDataSource(bv_sensor_data)\n",
    "mapper = linear_cmap(field_name='pm25', palette=custom_pallette ,low=float(bv_sensor_data['pm25'].min()) ,high=float(bv_sensor_data['pm25'].max()))\n",
    "\n",
    "p.circle(x='eastern', y='northern', size='pm25', alpha=0.5, line_color=mapper, color=mapper, hover_color=\"navy\", source=source)\n",
    "color_bar = ColorBar(color_mapper=mapper['transform'], width=8,  location=(0,0))\n",
    "\n",
    "p.add_layout(color_bar, 'right')\n",
    "\n",
    "p.add_tools(HoverTool(\n",
    "    tooltips=[\n",
    "        ( 'pm1',   '@pm1' ),\n",
    "        ( 'pm2.5',  '@pm25'), # use @{ } for field names with spaces\n",
    "        ( 'pm10', '@pm10'      )\n",
    "    ],    \n",
    "\n",
    "    # display a tooltip whenever the cursor is vertically in line with a glyph\n",
    "    mode='vline'\n",
    "))    \n",
    "#output_notebook()\n",
    "output_file(\"index_2.html\", title = 'Brasov Air Pollution')\n",
    "\n",
    "show(p)"
   ]
  },
  {
   "cell_type": "code",
   "execution_count": 103,
   "metadata": {},
   "outputs": [
    {
     "data": {
      "text/html": [
       "<div style=\"display: table;\"><div style=\"display: table-row;\"><div style=\"display: table-cell;\"><b title=\"bokeh.models.sources.ColumnDataSource\">ColumnDataSource</b>(</div><div style=\"display: table-cell;\">id&nbsp;=&nbsp;'3746', <span id=\"3748\" style=\"cursor: pointer;\">&hellip;)</span></div></div><div class=\"3747\" style=\"display: none;\"><div style=\"display: table-cell;\"></div><div style=\"display: table-cell;\">callback&nbsp;=&nbsp;None,</div></div><div class=\"3747\" style=\"display: none;\"><div style=\"display: table-cell;\"></div><div style=\"display: table-cell;\">data&nbsp;=&nbsp;{'pm1': ['16', '18', '16', '19', '12'], 'longitude': {'__ndarray__': 'jZyFPe2QOUArNXugFaQ5QA8LtaZ5lzlACRueXimbOUCC5nPudpk5QA==', 'shape': (5,), 'dtype': 'float64'}, 'latitude': {'__ndarray__': 'IlLTLqbTRkAyq3e4HdpGQKMBvAUS1EZAwhcmUwXTRkCQ2y+frNJGQA==', 'shape': (5,), 'dtype': 'float64'}, 'index': [0, 1, 2, 3, 4], 'pm10': ['25', '47', '46', '42', '17'], 'pm25': ['25', '40', '36', '37', '15'], 'temperature': ['18.69', '13.28', '12.79', '13.03', '19.01'], 'deviceid': ['1600009B', '160000A7', '160000A9', '160000C3', '82000169']},</div></div><div class=\"3747\" style=\"display: none;\"><div style=\"display: table-cell;\"></div><div style=\"display: table-cell;\">js_event_callbacks&nbsp;=&nbsp;{},</div></div><div class=\"3747\" style=\"display: none;\"><div style=\"display: table-cell;\"></div><div style=\"display: table-cell;\">js_property_callbacks&nbsp;=&nbsp;{},</div></div><div class=\"3747\" style=\"display: none;\"><div style=\"display: table-cell;\"></div><div style=\"display: table-cell;\">name&nbsp;=&nbsp;None,</div></div><div class=\"3747\" style=\"display: none;\"><div style=\"display: table-cell;\"></div><div style=\"display: table-cell;\">selected&nbsp;=&nbsp;Selection(id='3750', ...),</div></div><div class=\"3747\" style=\"display: none;\"><div style=\"display: table-cell;\"></div><div style=\"display: table-cell;\">selection_policy&nbsp;=&nbsp;UnionRenderers(id='3749', ...),</div></div><div class=\"3747\" style=\"display: none;\"><div style=\"display: table-cell;\"></div><div style=\"display: table-cell;\">subscribed_events&nbsp;=&nbsp;[],</div></div><div class=\"3747\" style=\"display: none;\"><div style=\"display: table-cell;\"></div><div style=\"display: table-cell;\">tags&nbsp;=&nbsp;[])</div></div></div>\n",
       "<script>\n",
       "(function() {\n",
       "  var expanded = false;\n",
       "  var ellipsis = document.getElementById(\"3748\");\n",
       "  ellipsis.addEventListener(\"click\", function() {\n",
       "    var rows = document.getElementsByClassName(\"3747\");\n",
       "    for (var i = 0; i < rows.length; i++) {\n",
       "      var el = rows[i];\n",
       "      el.style.display = expanded ? \"none\" : \"table-row\";\n",
       "    }\n",
       "    ellipsis.innerHTML = expanded ? \"&hellip;)\" : \"&lsaquo;&lsaquo;&lsaquo;\";\n",
       "    expanded = !expanded;\n",
       "  });\n",
       "})();\n",
       "</script>\n"
      ],
      "text/plain": [
       "ColumnDataSource(id='3746', ...)"
      ]
     },
     "execution_count": 103,
     "metadata": {},
     "output_type": "execute_result"
    }
   ],
   "source": [
    "source = ColumnDataSource(bv_sensor_data)\n",
    "source"
   ]
  },
  {
   "cell_type": "code",
   "execution_count": 4,
   "metadata": {},
   "outputs": [],
   "source": [
    "x_range=(2839667, 2864387)\n",
    "y_range=(5724182, 5733344)"
   ]
  },
  {
   "cell_type": "code",
   "execution_count": 5,
   "metadata": {},
   "outputs": [
    {
     "data": {
      "text/plain": [
       "(2819500, 2859900)"
      ]
     },
     "execution_count": 5,
     "metadata": {},
     "output_type": "execute_result"
    }
   ],
   "source": [
    "x_range"
   ]
  },
  {
   "cell_type": "code",
   "execution_count": 6,
   "metadata": {},
   "outputs": [
    {
     "data": {
      "text/plain": [
       "(5723000, 5733000)"
      ]
     },
     "execution_count": 6,
     "metadata": {},
     "output_type": "execute_result"
    }
   ],
   "source": [
    "y_range"
   ]
  },
  {
   "cell_type": "code",
   "execution_count": 4,
   "metadata": {},
   "outputs": [],
   "source": [
    "def heatmap(d, bins=(100,100), smoothing=1.3, cmap='jet'):\n",
    "    def getx(pt):\n",
    "        return pt.coords[0][0]\n",
    "\n",
    "    def gety(pt):\n",
    "        return pt.coords[0][1]\n",
    "\n",
    "    x = list(d.geometry.apply(getx))\n",
    "    y = list(d.geometry.apply(gety))\n",
    "    heatmap, xedges, yedges = np.histogram2d(y, x, bins=bins)\n",
    "    extent = [yedges[0], yedges[-1], xedges[-1], xedges[0]]\n",
    "\n",
    "    logheatmap = np.log(heatmap)\n",
    "    logheatmap[np.isneginf(logheatmap)] = 0\n",
    "    logheatmap = ndimage.filters.gaussian_filter(logheatmap, smoothing, mode='nearest')\n",
    "    \n",
    "    plt.imshow(logheatmap, cmap=cmap, extent=extent)\n",
    "    plt.colorbar()\n",
    "    plt.gca().invert_yaxis()\n",
    "    plt.show()"
   ]
  },
  {
   "cell_type": "code",
   "execution_count": null,
   "metadata": {},
   "outputs": [],
   "source": [
    "pts = pd.DataFrame([1,2,3,4,5,6,7,8] , columns = ['pla'])\n",
    "heatmap(pts, bins=50, smoothing=1.5)"
   ]
  },
  {
   "cell_type": "code",
   "execution_count": 89,
   "metadata": {},
   "outputs": [
    {
     "data": {
      "text/plain": [
       "['25', '47', '46', '42', '17']"
      ]
     },
     "execution_count": 89,
     "metadata": {},
     "output_type": "execute_result"
    }
   ],
   "source": [
    "list(bv_sensor_data['pm10'])"
   ]
  },
  {
   "cell_type": "code",
   "execution_count": 82,
   "metadata": {},
   "outputs": [
    {
     "data": {
      "text/plain": [
       "[(45.653509, 25.56612),\n",
       " (45.704032, 25.640955),\n",
       " (45.6568, 25.5917),\n",
       " (45.6486, 25.6061),\n",
       " (45.645893, 25.599471)]"
      ]
     },
     "execution_count": 82,
     "metadata": {},
     "output_type": "execute_result"
    }
   ],
   "source": [
    "list(zip(bv_sensor_data['latitude'], bv_sensor_data['longitude']))"
   ]
  },
  {
   "cell_type": "code",
   "execution_count": 88,
   "metadata": {},
   "outputs": [
    {
     "data": {
      "text/plain": [
       "['25', '40', '36', '37', '15']"
      ]
     },
     "execution_count": 88,
     "metadata": {},
     "output_type": "execute_result"
    }
   ],
   "source": [
    "list(bv_sensor_data['pm25'])"
   ]
  },
  {
   "cell_type": "code",
   "execution_count": 94,
   "metadata": {},
   "outputs": [
    {
     "data": {
      "text/plain": [
       "'[{\"deviceid\":\"1600009B\",\"pm1\":\"16\",\"pm25\":\"25\",\"pm10\":\"25\",\"latitude\":45.653509,\"longitude\":25.56612,\"temperature\":\"18.69\"},{\"deviceid\":\"160000A7\",\"pm1\":\"18\",\"pm25\":\"40\",\"pm10\":\"47\",\"latitude\":45.704032,\"longitude\":25.640955,\"temperature\":\"13.28\"},{\"deviceid\":\"160000A9\",\"pm1\":\"16\",\"pm25\":\"36\",\"pm10\":\"46\",\"latitude\":45.6568,\"longitude\":25.5917,\"temperature\":\"12.79\"},{\"deviceid\":\"160000C3\",\"pm1\":\"19\",\"pm25\":\"37\",\"pm10\":\"42\",\"latitude\":45.6486,\"longitude\":25.6061,\"temperature\":\"13.03\"},{\"deviceid\":\"82000169\",\"pm1\":\"12\",\"pm25\":\"15\",\"pm10\":\"17\",\"latitude\":45.645893,\"longitude\":25.599471,\"temperature\":\"19.01\"}]'"
      ]
     },
     "execution_count": 94,
     "metadata": {},
     "output_type": "execute_result"
    }
   ],
   "source": [
    "bv_sensor_data.to_json(orient='records')"
   ]
  },
  {
   "cell_type": "code",
   "execution_count": 129,
   "metadata": {},
   "outputs": [
    {
     "data": {
      "text/html": [
       "<div>\n",
       "<style scoped>\n",
       "    .dataframe tbody tr th:only-of-type {\n",
       "        vertical-align: middle;\n",
       "    }\n",
       "\n",
       "    .dataframe tbody tr th {\n",
       "        vertical-align: top;\n",
       "    }\n",
       "\n",
       "    .dataframe thead th {\n",
       "        text-align: right;\n",
       "    }\n",
       "</style>\n",
       "<table border=\"1\" class=\"dataframe\">\n",
       "  <thead>\n",
       "    <tr style=\"text-align: right;\">\n",
       "      <th></th>\n",
       "      <th>deviceid</th>\n",
       "      <th>pm1</th>\n",
       "      <th>pm25</th>\n",
       "      <th>pm10</th>\n",
       "      <th>latitude</th>\n",
       "      <th>longitude</th>\n",
       "      <th>eastern</th>\n",
       "      <th>northern</th>\n",
       "      <th>temperature</th>\n",
       "    </tr>\n",
       "  </thead>\n",
       "  <tbody>\n",
       "    <tr>\n",
       "      <th>0</th>\n",
       "      <td>1600009B</td>\n",
       "      <td>16</td>\n",
       "      <td>25</td>\n",
       "      <td>25</td>\n",
       "      <td>45.653509</td>\n",
       "      <td>25.566120</td>\n",
       "      <td>2.846007e+06</td>\n",
       "      <td>5.724997e+06</td>\n",
       "      <td>18.69</td>\n",
       "    </tr>\n",
       "    <tr>\n",
       "      <th>1</th>\n",
       "      <td>160000A7</td>\n",
       "      <td>18</td>\n",
       "      <td>40</td>\n",
       "      <td>47</td>\n",
       "      <td>45.704032</td>\n",
       "      <td>25.640955</td>\n",
       "      <td>2.854338e+06</td>\n",
       "      <td>5.733046e+06</td>\n",
       "      <td>13.28</td>\n",
       "    </tr>\n",
       "    <tr>\n",
       "      <th>2</th>\n",
       "      <td>160000A9</td>\n",
       "      <td>16</td>\n",
       "      <td>36</td>\n",
       "      <td>46</td>\n",
       "      <td>45.656800</td>\n",
       "      <td>25.591700</td>\n",
       "      <td>2.848855e+06</td>\n",
       "      <td>5.725521e+06</td>\n",
       "      <td>12.79</td>\n",
       "    </tr>\n",
       "    <tr>\n",
       "      <th>3</th>\n",
       "      <td>160000C3</td>\n",
       "      <td>19</td>\n",
       "      <td>37</td>\n",
       "      <td>42</td>\n",
       "      <td>45.648600</td>\n",
       "      <td>25.606100</td>\n",
       "      <td>2.850458e+06</td>\n",
       "      <td>5.724215e+06</td>\n",
       "      <td>13.03</td>\n",
       "    </tr>\n",
       "    <tr>\n",
       "      <th>4</th>\n",
       "      <td>82000169</td>\n",
       "      <td>12</td>\n",
       "      <td>15</td>\n",
       "      <td>17</td>\n",
       "      <td>45.645893</td>\n",
       "      <td>25.599471</td>\n",
       "      <td>2.849720e+06</td>\n",
       "      <td>5.723784e+06</td>\n",
       "      <td>19.01</td>\n",
       "    </tr>\n",
       "  </tbody>\n",
       "</table>\n",
       "</div>"
      ],
      "text/plain": [
       "   deviceid pm1 pm25 pm10   latitude  longitude       eastern      northern  \\\n",
       "0  1600009B  16   25   25  45.653509  25.566120  2.846007e+06  5.724997e+06   \n",
       "1  160000A7  18   40   47  45.704032  25.640955  2.854338e+06  5.733046e+06   \n",
       "2  160000A9  16   36   46  45.656800  25.591700  2.848855e+06  5.725521e+06   \n",
       "3  160000C3  19   37   42  45.648600  25.606100  2.850458e+06  5.724215e+06   \n",
       "4  82000169  12   15   17  45.645893  25.599471  2.849720e+06  5.723784e+06   \n",
       "\n",
       "  temperature  \n",
       "0       18.69  \n",
       "1       13.28  \n",
       "2       12.79  \n",
       "3       13.03  \n",
       "4       19.01  "
      ]
     },
     "execution_count": 129,
     "metadata": {},
     "output_type": "execute_result"
    }
   ],
   "source": [
    "bv_sensor_data"
   ]
  },
  {
   "cell_type": "code",
   "execution_count": 121,
   "metadata": {},
   "outputs": [
    {
     "data": {
      "text/plain": [
       "['#3288bd', '#99d594', '#e6f598', '#fee08b', '#fc8d59', '#d53e4f']"
      ]
     },
     "execution_count": 121,
     "metadata": {},
     "output_type": "execute_result"
    }
   ],
   "source": [
    "Spectral6"
   ]
  },
  {
   "cell_type": "code",
   "execution_count": 154,
   "metadata": {},
   "outputs": [],
   "source": [
    "dic = bv_sensor_data.to_dict(orient='records')"
   ]
  },
  {
   "cell_type": "code",
   "execution_count": 156,
   "metadata": {},
   "outputs": [
    {
     "data": {
      "text/plain": [
       "list"
      ]
     },
     "execution_count": 156,
     "metadata": {},
     "output_type": "execute_result"
    }
   ],
   "source": [
    "type(dic)"
   ]
  },
  {
   "cell_type": "code",
   "execution_count": null,
   "metadata": {},
   "outputs": [],
   "source": []
  }
 ],
 "metadata": {
  "kernelspec": {
   "display_name": "Python 3",
   "language": "python",
   "name": "python3"
  },
  "language_info": {
   "codemirror_mode": {
    "name": "ipython",
    "version": 3
   },
   "file_extension": ".py",
   "mimetype": "text/x-python",
   "name": "python",
   "nbconvert_exporter": "python",
   "pygments_lexer": "ipython3",
   "version": "3.7.2"
  }
 },
 "nbformat": 4,
 "nbformat_minor": 4
}
