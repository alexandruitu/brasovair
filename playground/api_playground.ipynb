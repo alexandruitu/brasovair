{
 "cells": [
  {
   "cell_type": "code",
   "execution_count": 20,
   "metadata": {},
   "outputs": [],
   "source": [
    "import requests\n",
    "import json\n",
    "headers = {\"X-User-id\": \"6278\", \"X-User-hash\":\"a235942bff158e1027d455a9d36d2fa3\"}\n",
    "response = requests.get('https://data.uradmonitor.com/api/v1/devices',headers = headers)\n",
    "try:\n",
    "    json_response = json.loads(response.content.decode(\"utf-8\"))\n",
    "except Exception as e:\n",
    "    print (e)\n",
    "    "
   ]
  },
  {
   "cell_type": "code",
   "execution_count": 21,
   "metadata": {},
   "outputs": [
    {
     "data": {
      "text/plain": [
       "[{'id': '4100000A',\n",
       "  'timefirst': '1443263535',\n",
       "  'timelast': '1565548127',\n",
       "  'timelocal': '334740',\n",
       "  'latitude': 47.677425,\n",
       "  'longitude': 22.475179,\n",
       "  'altitude': 105.1,\n",
       "  'speed': 0,\n",
       "  'city': 'Carei',\n",
       "  'country': 'RO',\n",
       "  'versionsw': '126',\n",
       "  'versionhw': '100',\n",
       "  'status': None,\n",
       "  'mobile': None,\n",
       "  'detector': 'SBM20',\n",
       "  'factor': 0.006315,\n",
       "  'note': '',\n",
       "  'picture': None,\n",
       "  'avg_timelocal': '291540',\n",
       "  'avg_temperature': '26.98',\n",
       "  'avg_pressure': '100071',\n",
       "  'avg_cpm': '21',\n",
       "  'avg_voltage': '380.14',\n",
       "  'avg_duty': '557.86'},\n",
       " {'id': '82000034',\n",
       "  'timefirst': '1476731292',\n",
       "  'timelast': '1578441886',\n",
       "  'timelocal': '21780',\n",
       "  'latitude': 46.082265,\n",
       "  'longitude': 23.574969,\n",
       "  'altitude': 232.9,\n",
       "  'speed': 0.01,\n",
       "  'city': 'Alba Iulia',\n",
       "  'country': 'RO',\n",
       "  'versionsw': '122',\n",
       "  'versionhw': '103',\n",
       "  'status': None,\n",
       "  'mobile': '1',\n",
       "  'detector': 'SI29BG',\n",
       "  'factor': 0.01,\n",
       "  'note': '',\n",
       "  'picture': None,\n",
       "  'avg_timelocal': '10950',\n",
       "  'avg_temperature': '-3.12',\n",
       "  'avg_pressure': '100613',\n",
       "  'avg_humidity': '60.91',\n",
       "  'avg_voc': '934536',\n",
       "  'min_voc': '717087',\n",
       "  'max_voc': '1156004',\n",
       "  'avg_vocaqi': '252.28',\n",
       "  'avg_co2': '627',\n",
       "  'avg_ch2o': '0',\n",
       "  'avg_pm1': '49',\n",
       "  'avg_pm25': '62',\n",
       "  'avg_pm10': '83',\n",
       "  'avg_noise': '0.00',\n",
       "  'avg_cpm': '10',\n",
       "  'avg_voltage': '381.55',\n",
       "  'avg_duty': '193.64'}]"
      ]
     },
     "execution_count": 21,
     "metadata": {},
     "output_type": "execute_result"
    }
   ],
   "source": [
    "json_response"
   ]
  },
  {
   "cell_type": "code",
   "execution_count": null,
   "metadata": {},
   "outputs": [],
   "source": []
  }
 ],
 "metadata": {
  "kernelspec": {
   "display_name": "Python 3",
   "language": "python",
   "name": "python3"
  },
  "language_info": {
   "codemirror_mode": {
    "name": "ipython",
    "version": 3
   },
   "file_extension": ".py",
   "mimetype": "text/x-python",
   "name": "python",
   "nbconvert_exporter": "python",
   "pygments_lexer": "ipython3",
   "version": "3.7.2"
  }
 },
 "nbformat": 4,
 "nbformat_minor": 4
}
