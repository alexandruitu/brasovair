{
 "cells": [
  {
   "cell_type": "code",
   "execution_count": 99,
   "metadata": {},
   "outputs": [],
   "source": [
    "import requests\n",
    "import json"
   ]
  },
  {
   "cell_type": "code",
   "execution_count": 100,
   "metadata": {},
   "outputs": [],
   "source": [
    "# request headers for the subscription\n",
    "headers = {\"X-User-id\": \"6278\", \"X-User-hash\":\"a235942bff158e1027d455a9d36d2fa3\"}"
   ]
  },
  {
   "cell_type": "code",
   "execution_count": 101,
   "metadata": {},
   "outputs": [],
   "source": [
    "def make_uradmonitor_request(url: str, headers):\n",
    "    response = requests.get(url, headers = headers)\n",
    "    try:\n",
    "        response_json = json.loads(response.content.decode(\"utf-8\"))\n",
    "    except Exception as e:\n",
    "        print (e)\n",
    "        return str(e)\n",
    "\n",
    "    return response_json\n",
    "    "
   ]
  },
  {
   "cell_type": "markdown",
   "metadata": {},
   "source": [
    "### 1. Get devices list"
   ]
  },
  {
   "cell_type": "code",
   "execution_count": 103,
   "metadata": {},
   "outputs": [],
   "source": [
    "devices_list = make_uradmonitor_request('https://data.uradmonitor.com/api/v1/devices', headers = headers)"
   ]
  },
  {
   "cell_type": "code",
   "execution_count": 104,
   "metadata": {},
   "outputs": [
    {
     "data": {
      "text/plain": [
       "[{'id': '4100000A',\n",
       "  'timefirst': '1443263535',\n",
       "  'timelast': '1565548127',\n",
       "  'timelocal': '334740',\n",
       "  'latitude': 47.677425,\n",
       "  'longitude': 22.475179,\n",
       "  'altitude': 105.1,\n",
       "  'speed': 0,\n",
       "  'city': 'Carei',\n",
       "  'country': 'RO',\n",
       "  'versionsw': '126',\n",
       "  'versionhw': '100',\n",
       "  'status': None,\n",
       "  'mobile': None,\n",
       "  'detector': 'SBM20',\n",
       "  'factor': 0.006315,\n",
       "  'note': '',\n",
       "  'picture': None,\n",
       "  'avg_timelocal': '291540',\n",
       "  'avg_temperature': '26.98',\n",
       "  'avg_pressure': '100071',\n",
       "  'avg_cpm': '21',\n",
       "  'avg_voltage': '380.14',\n",
       "  'avg_duty': '557.86'},\n",
       " {'id': '82000034',\n",
       "  'timefirst': '1476731292',\n",
       "  'timelast': '1578441886',\n",
       "  'timelocal': '21780',\n",
       "  'latitude': 46.082265,\n",
       "  'longitude': 23.574969,\n",
       "  'altitude': 232.9,\n",
       "  'speed': 0.01,\n",
       "  'city': 'Alba Iulia',\n",
       "  'country': 'RO',\n",
       "  'versionsw': '122',\n",
       "  'versionhw': '103',\n",
       "  'status': None,\n",
       "  'mobile': '1',\n",
       "  'detector': 'SI29BG',\n",
       "  'factor': 0.01,\n",
       "  'note': '',\n",
       "  'picture': None,\n",
       "  'avg_timelocal': '10950',\n",
       "  'avg_temperature': '-3.12',\n",
       "  'avg_pressure': '100613',\n",
       "  'avg_humidity': '60.91',\n",
       "  'avg_voc': '934536',\n",
       "  'min_voc': '717087',\n",
       "  'max_voc': '1156004',\n",
       "  'avg_vocaqi': '252.28',\n",
       "  'avg_co2': '627',\n",
       "  'avg_ch2o': '0',\n",
       "  'avg_pm1': '49',\n",
       "  'avg_pm25': '62',\n",
       "  'avg_pm10': '83',\n",
       "  'avg_noise': '0.00',\n",
       "  'avg_cpm': '10',\n",
       "  'avg_voltage': '381.55',\n",
       "  'avg_duty': '193.64'}]"
      ]
     },
     "execution_count": 104,
     "metadata": {},
     "output_type": "execute_result"
    }
   ],
   "source": [
    "devices_list"
   ]
  },
  {
   "cell_type": "markdown",
   "metadata": {},
   "source": [
    "### 2. Get device sensors list"
   ]
  },
  {
   "cell_type": "code",
   "execution_count": 105,
   "metadata": {},
   "outputs": [],
   "source": [
    "devices_id = [device['id'] for device in devices_list ]"
   ]
  },
  {
   "cell_type": "code",
   "execution_count": 106,
   "metadata": {},
   "outputs": [],
   "source": [
    "available_sensors = [make_uradmonitor_request(f'https://data.uradmonitor.com/api/v1/devices/{id}', headers = headers) for id in devices_id]"
   ]
  },
  {
   "cell_type": "markdown",
   "metadata": {},
   "source": [
    "### 3. Get detailed device data"
   ]
  },
  {
   "cell_type": "code",
   "execution_count": 81,
   "metadata": {},
   "outputs": [
    {
     "data": {
      "text/plain": [
       "{'timelocal': ['Timelocal', 's'],\n",
       " 'temperature': ['Temperature', '°C'],\n",
       " 'pressure': ['Pressure', 'Pa'],\n",
       " 'cpm': ['Radiation', 'cpm'],\n",
       " 'voltage': ['Voltage', 'V'],\n",
       " 'duty': ['Duty cycle', '‰'],\n",
       " 'all': ['All', '']}"
      ]
     },
     "execution_count": 81,
     "metadata": {},
     "output_type": "execute_result"
    }
   ],
   "source": [
    "start_interval = 600\n",
    "stop_interval = 480\n",
    "sensor_values = dict()\n",
    "for device_id in devices_id:\n",
    "    sensor_data = [make_uradmonitor_request(f'https://data.uradmonitor.com/api/v1/devices/{device_id}/{available_sensors data for ]\n",
    "    sensor_data = make_uradmonitor_request(f'https://data.uradmonitor.com/api/v1/devices/{device_id}/{available_sensors[0][\"temperature\"]}/{start_interval}/{stop_interval}',headers = headers)\n",
    "sensor_data"
   ]
  },
  {
   "cell_type": "code",
   "execution_count": 79,
   "metadata": {},
   "outputs": [
    {
     "name": "stdout",
     "output_type": "stream",
     "text": [
      "timelocal\n",
      "temperature\n",
      "pressure\n",
      "cpm\n",
      "voltage\n",
      "duty\n",
      "all\n"
     ]
    }
   ],
   "source": [
    "for key in available_sensors[0].keys():\n",
    "    print(key)"
   ]
  },
  {
   "cell_type": "code",
   "execution_count": 90,
   "metadata": {},
   "outputs": [
    {
     "data": {
      "text/plain": [
       "[{'timelocal': ['Timelocal', 's'],\n",
       "  'temperature': ['Temperature', '°C'],\n",
       "  'pressure': ['Pressure', 'Pa'],\n",
       "  'cpm': ['Radiation', 'cpm'],\n",
       "  'voltage': ['Voltage', 'V'],\n",
       "  'duty': ['Duty cycle', '‰'],\n",
       "  'all': ['All', '']},\n",
       " {'timelocal': ['Timelocal', 's'],\n",
       "  'temperature': ['Temperature', '°C'],\n",
       "  'pressure': ['Pressure', 'Pa'],\n",
       "  'humidity': ['Humidity', '% RH'],\n",
       "  'voc': ['VOC raw', 'Ohm'],\n",
       "  'vocaqi': ['VOC AQI', 'AQI 500'],\n",
       "  'co2': ['Carbon Dioxide', 'ppm'],\n",
       "  'ch2o': ['Formaldehyde', 'ppb'],\n",
       "  'pm1': ['PM1.0', 'µg/m³'],\n",
       "  'pm25': ['PM2.5', 'µg/m³'],\n",
       "  'pm10': ['PM10', 'µg/m³'],\n",
       "  'noise': ['Noise', 'dB'],\n",
       "  'cpm': ['Radiation', 'cpm'],\n",
       "  'voltage': ['Voltage', 'V'],\n",
       "  'duty': ['Duty cycle', '‰'],\n",
       "  'all': ['All', '']}]"
      ]
     },
     "execution_count": 90,
     "metadata": {},
     "output_type": "execute_result"
    }
   ],
   "source": [
    "available_sensors"
   ]
  },
  {
   "cell_type": "code",
   "execution_count": 97,
   "metadata": {},
   "outputs": [],
   "source": [
    "sensor_data_global = dict()\n",
    "for device_id in devices_id:\n",
    "    for sensor in available_sensors:\n",
    "        sensor_data = [{sensor_type: make_uradmonitor_request(f'https://data.uradmonitor.com/api/v1/devices/{device_id}/{sensor_type}/{start_interval}', headers=headers)} for sensor_type in sensor.keys()]\n",
    "    sensor_data_global.update({device_id:sensor_data})"
   ]
  },
  {
   "cell_type": "code",
   "execution_count": null,
   "metadata": {},
   "outputs": [],
   "source": [
    "sensor_data_global"
   ]
  },
  {
   "cell_type": "code",
   "execution_count": 46,
   "metadata": {},
   "outputs": [],
   "source": [
    "import urllib.request\n",
    "opener = urllib.request.build_opener()\n",
    "opener.addheaders = [(\"X-User-id\", \"6378\"), (\"X-User-hash\", \"e3e7cbb6623b3e6a4504a2a258da07f1\")]\n",
    "devices = opener.open('https://data.uradmonitor.com/api/v1/devices')"
   ]
  },
  {
   "cell_type": "code",
   "execution_count": 47,
   "metadata": {},
   "outputs": [],
   "source": [
    "import json\n",
    "js = json.loads(f\"{devices.read().decode('utf-8')}\")"
   ]
  },
  {
   "cell_type": "code",
   "execution_count": 48,
   "metadata": {},
   "outputs": [
    {
     "data": {
      "text/plain": [
       "'{\"id\": \"82000156\", \"timefirst\": \"1580763711\", \"timelast\": \"1581573784\", \"timelocal\": \"240\", \"latitude\": 45.700884, \"longitude\": 26.1063, \"altitude\": 470.5, \"speed\": 0, \"city\": \"Harman\", \"country\": \"RO\", \"placement\": \"1\", \"versionsw\": \"74\", \"versionhw\": \"108\", \"status\": null, \"mobile\": null, \"detector\": \"SI29BG\", \"factor\": 0.01, \"note\": \"\", \"picture\": \"\", \"avg_timelocal\": \"750\", \"avg_temperature\": \"21.94\", \"avg_pressure\": \"95778\", \"avg_humidity\": \"43.91\", \"avg_voc\": \"110909\", \"min_voc\": null, \"max_voc\": null, \"avg_noise\": \"53.05\", \"avg_co2\": \"1103\", \"avg_ch2o\": \"101\", \"avg_o3\": \"20\", \"avg_pm1\": \"0\", \"avg_pm25\": \"0\", \"avg_pm10\": \"0\"}'"
      ]
     },
     "execution_count": 48,
     "metadata": {},
     "output_type": "execute_result"
    }
   ],
   "source": [
    "json.dumps(js[0])"
   ]
  },
  {
   "cell_type": "code",
   "execution_count": 19,
   "metadata": {},
   "outputs": [
    {
     "data": {
      "text/plain": [
       "'[{\"id\":\"4100000A\",\"timefirst\":\"1443263535\",\"timelast\":\"1565548127\",\"timelocal\":\"334740\",\"latitude\":47.677424999999999,\"longitude\":22.475179000000001,\"altitude\":105.09999999999999,\"speed\":0,\"city\":\"Carei\",\"country\":\"RO\",\"placement\":\"0\",\"versionsw\":\"126\",\"versionhw\":\"100\",\"status\":null,\"mobile\":null,\"detector\":\"SBM20\",\"factor\":0.0063150000000000003,\"note\":\"\",\"picture\":null,\"avg_timelocal\":\"291540\",\"avg_temperature\":\"26.98\",\"avg_pressure\":\"100071\",\"avg_cpm\":\"21\",\"avg_voltage\":\"380.14\",\"avg_duty\":\"557.86\"},{\"id\":\"82000034\",\"timefirst\":\"1476731292\",\"timelast\":\"1581601282\",\"timelocal\":\"271500\",\"latitude\":46.072557000000003,\"longitude\":23.580666000000001,\"altitude\":245.09999999999999,\"speed\":4.1600000000000001,\"city\":\"Alba Iulia\",\"country\":\"RO\",\"placement\":\"0\",\"versionsw\":\"122\",\"versionhw\":\"103\",\"status\":\"1\",\"mobile\":\"1\",\"detector\":\"SI29BG\",\"factor\":0.01,\"note\":\"\",\"picture\":null,\"avg_timelocal\":\"270955\",\"avg_temperature\":\"18.37\",\"avg_pressure\":\"99687\",\"avg_humidity\":\"27.65\",\"avg_voc\":\"1489663\",\"min_voc\":null,\"max_voc\":null,\"avg_co2\":\"473\",\"avg_ch2o\":\"0\",\"avg_pm25\":\"38\",\"avg_cpm\":\"11\",\"avg_voltage\":\"379.89\",\"avg_duty\":\"205.00\"}]'"
      ]
     },
     "execution_count": 19,
     "metadata": {},
     "output_type": "execute_result"
    }
   ],
   "source": [
    "res"
   ]
  },
  {
   "cell_type": "code",
   "execution_count": 11,
   "metadata": {},
   "outputs": [
    {
     "data": {
      "text/html": [
       "\n",
       "    <div class=\"bk-root\">\n",
       "        <a href=\"https://bokeh.org\" target=\"_blank\" class=\"bk-logo bk-logo-small bk-logo-notebook\"></a>\n",
       "        <span id=\"2584\">Loading BokehJS ...</span>\n",
       "    </div>"
      ]
     },
     "metadata": {},
     "output_type": "display_data"
    },
    {
     "data": {
      "application/javascript": [
       "\n",
       "(function(root) {\n",
       "  function now() {\n",
       "    return new Date();\n",
       "  }\n",
       "\n",
       "  var force = true;\n",
       "\n",
       "  if (typeof root._bokeh_onload_callbacks === \"undefined\" || force === true) {\n",
       "    root._bokeh_onload_callbacks = [];\n",
       "    root._bokeh_is_loading = undefined;\n",
       "  }\n",
       "\n",
       "  var JS_MIME_TYPE = 'application/javascript';\n",
       "  var HTML_MIME_TYPE = 'text/html';\n",
       "  var EXEC_MIME_TYPE = 'application/vnd.bokehjs_exec.v0+json';\n",
       "  var CLASS_NAME = 'output_bokeh rendered_html';\n",
       "\n",
       "  /**\n",
       "   * Render data to the DOM node\n",
       "   */\n",
       "  function render(props, node) {\n",
       "    var script = document.createElement(\"script\");\n",
       "    node.appendChild(script);\n",
       "  }\n",
       "\n",
       "  /**\n",
       "   * Handle when an output is cleared or removed\n",
       "   */\n",
       "  function handleClearOutput(event, handle) {\n",
       "    var cell = handle.cell;\n",
       "\n",
       "    var id = cell.output_area._bokeh_element_id;\n",
       "    var server_id = cell.output_area._bokeh_server_id;\n",
       "    // Clean up Bokeh references\n",
       "    if (id != null && id in Bokeh.index) {\n",
       "      Bokeh.index[id].model.document.clear();\n",
       "      delete Bokeh.index[id];\n",
       "    }\n",
       "\n",
       "    if (server_id !== undefined) {\n",
       "      // Clean up Bokeh references\n",
       "      var cmd = \"from bokeh.io.state import curstate; print(curstate().uuid_to_server['\" + server_id + \"'].get_sessions()[0].document.roots[0]._id)\";\n",
       "      cell.notebook.kernel.execute(cmd, {\n",
       "        iopub: {\n",
       "          output: function(msg) {\n",
       "            var id = msg.content.text.trim();\n",
       "            if (id in Bokeh.index) {\n",
       "              Bokeh.index[id].model.document.clear();\n",
       "              delete Bokeh.index[id];\n",
       "            }\n",
       "          }\n",
       "        }\n",
       "      });\n",
       "      // Destroy server and session\n",
       "      var cmd = \"import bokeh.io.notebook as ion; ion.destroy_server('\" + server_id + \"')\";\n",
       "      cell.notebook.kernel.execute(cmd);\n",
       "    }\n",
       "  }\n",
       "\n",
       "  /**\n",
       "   * Handle when a new output is added\n",
       "   */\n",
       "  function handleAddOutput(event, handle) {\n",
       "    var output_area = handle.output_area;\n",
       "    var output = handle.output;\n",
       "\n",
       "    // limit handleAddOutput to display_data with EXEC_MIME_TYPE content only\n",
       "    if ((output.output_type != \"display_data\") || (!output.data.hasOwnProperty(EXEC_MIME_TYPE))) {\n",
       "      return\n",
       "    }\n",
       "\n",
       "    var toinsert = output_area.element.find(\".\" + CLASS_NAME.split(' ')[0]);\n",
       "\n",
       "    if (output.metadata[EXEC_MIME_TYPE][\"id\"] !== undefined) {\n",
       "      toinsert[toinsert.length - 1].firstChild.textContent = output.data[JS_MIME_TYPE];\n",
       "      // store reference to embed id on output_area\n",
       "      output_area._bokeh_element_id = output.metadata[EXEC_MIME_TYPE][\"id\"];\n",
       "    }\n",
       "    if (output.metadata[EXEC_MIME_TYPE][\"server_id\"] !== undefined) {\n",
       "      var bk_div = document.createElement(\"div\");\n",
       "      bk_div.innerHTML = output.data[HTML_MIME_TYPE];\n",
       "      var script_attrs = bk_div.children[0].attributes;\n",
       "      for (var i = 0; i < script_attrs.length; i++) {\n",
       "        toinsert[toinsert.length - 1].firstChild.setAttribute(script_attrs[i].name, script_attrs[i].value);\n",
       "      }\n",
       "      // store reference to server id on output_area\n",
       "      output_area._bokeh_server_id = output.metadata[EXEC_MIME_TYPE][\"server_id\"];\n",
       "    }\n",
       "  }\n",
       "\n",
       "  function register_renderer(events, OutputArea) {\n",
       "\n",
       "    function append_mime(data, metadata, element) {\n",
       "      // create a DOM node to render to\n",
       "      var toinsert = this.create_output_subarea(\n",
       "        metadata,\n",
       "        CLASS_NAME,\n",
       "        EXEC_MIME_TYPE\n",
       "      );\n",
       "      this.keyboard_manager.register_events(toinsert);\n",
       "      // Render to node\n",
       "      var props = {data: data, metadata: metadata[EXEC_MIME_TYPE]};\n",
       "      render(props, toinsert[toinsert.length - 1]);\n",
       "      element.append(toinsert);\n",
       "      return toinsert\n",
       "    }\n",
       "\n",
       "    /* Handle when an output is cleared or removed */\n",
       "    events.on('clear_output.CodeCell', handleClearOutput);\n",
       "    events.on('delete.Cell', handleClearOutput);\n",
       "\n",
       "    /* Handle when a new output is added */\n",
       "    events.on('output_added.OutputArea', handleAddOutput);\n",
       "\n",
       "    /**\n",
       "     * Register the mime type and append_mime function with output_area\n",
       "     */\n",
       "    OutputArea.prototype.register_mime_type(EXEC_MIME_TYPE, append_mime, {\n",
       "      /* Is output safe? */\n",
       "      safe: true,\n",
       "      /* Index of renderer in `output_area.display_order` */\n",
       "      index: 0\n",
       "    });\n",
       "  }\n",
       "\n",
       "  // register the mime type if in Jupyter Notebook environment and previously unregistered\n",
       "  if (root.Jupyter !== undefined) {\n",
       "    var events = require('base/js/events');\n",
       "    var OutputArea = require('notebook/js/outputarea').OutputArea;\n",
       "\n",
       "    if (OutputArea.prototype.mime_types().indexOf(EXEC_MIME_TYPE) == -1) {\n",
       "      register_renderer(events, OutputArea);\n",
       "    }\n",
       "  }\n",
       "\n",
       "  \n",
       "  if (typeof (root._bokeh_timeout) === \"undefined\" || force === true) {\n",
       "    root._bokeh_timeout = Date.now() + 5000;\n",
       "    root._bokeh_failed_load = false;\n",
       "  }\n",
       "\n",
       "  var NB_LOAD_WARNING = {'data': {'text/html':\n",
       "     \"<div style='background-color: #fdd'>\\n\"+\n",
       "     \"<p>\\n\"+\n",
       "     \"BokehJS does not appear to have successfully loaded. If loading BokehJS from CDN, this \\n\"+\n",
       "     \"may be due to a slow or bad network connection. Possible fixes:\\n\"+\n",
       "     \"</p>\\n\"+\n",
       "     \"<ul>\\n\"+\n",
       "     \"<li>re-rerun `output_notebook()` to attempt to load from CDN again, or</li>\\n\"+\n",
       "     \"<li>use INLINE resources instead, as so:</li>\\n\"+\n",
       "     \"</ul>\\n\"+\n",
       "     \"<code>\\n\"+\n",
       "     \"from bokeh.resources import INLINE\\n\"+\n",
       "     \"output_notebook(resources=INLINE)\\n\"+\n",
       "     \"</code>\\n\"+\n",
       "     \"</div>\"}};\n",
       "\n",
       "  function display_loaded() {\n",
       "    var el = document.getElementById(\"2584\");\n",
       "    if (el != null) {\n",
       "      el.textContent = \"BokehJS is loading...\";\n",
       "    }\n",
       "    if (root.Bokeh !== undefined) {\n",
       "      if (el != null) {\n",
       "        el.textContent = \"BokehJS \" + root.Bokeh.version + \" successfully loaded.\";\n",
       "      }\n",
       "    } else if (Date.now() < root._bokeh_timeout) {\n",
       "      setTimeout(display_loaded, 100)\n",
       "    }\n",
       "  }\n",
       "\n",
       "\n",
       "  function run_callbacks() {\n",
       "    try {\n",
       "      root._bokeh_onload_callbacks.forEach(function(callback) {\n",
       "        if (callback != null)\n",
       "          callback();\n",
       "      });\n",
       "    } finally {\n",
       "      delete root._bokeh_onload_callbacks\n",
       "    }\n",
       "    console.debug(\"Bokeh: all callbacks have finished\");\n",
       "  }\n",
       "\n",
       "  function load_libs(css_urls, js_urls, callback) {\n",
       "    if (css_urls == null) css_urls = [];\n",
       "    if (js_urls == null) js_urls = [];\n",
       "\n",
       "    root._bokeh_onload_callbacks.push(callback);\n",
       "    if (root._bokeh_is_loading > 0) {\n",
       "      console.debug(\"Bokeh: BokehJS is being loaded, scheduling callback at\", now());\n",
       "      return null;\n",
       "    }\n",
       "    if (js_urls == null || js_urls.length === 0) {\n",
       "      run_callbacks();\n",
       "      return null;\n",
       "    }\n",
       "    console.debug(\"Bokeh: BokehJS not loaded, scheduling load and callback at\", now());\n",
       "    root._bokeh_is_loading = css_urls.length + js_urls.length;\n",
       "\n",
       "    function on_load() {\n",
       "      root._bokeh_is_loading--;\n",
       "      if (root._bokeh_is_loading === 0) {\n",
       "        console.debug(\"Bokeh: all BokehJS libraries/stylesheets loaded\");\n",
       "        run_callbacks()\n",
       "      }\n",
       "    }\n",
       "\n",
       "    function on_error() {\n",
       "      console.error(\"failed to load \" + url);\n",
       "    }\n",
       "\n",
       "    for (var i = 0; i < css_urls.length; i++) {\n",
       "      var url = css_urls[i];\n",
       "      const element = document.createElement(\"link\");\n",
       "      element.onload = on_load;\n",
       "      element.onerror = on_error;\n",
       "      element.rel = \"stylesheet\";\n",
       "      element.type = \"text/css\";\n",
       "      element.href = url;\n",
       "      console.debug(\"Bokeh: injecting link tag for BokehJS stylesheet: \", url);\n",
       "      document.body.appendChild(element);\n",
       "    }\n",
       "\n",
       "    for (var i = 0; i < js_urls.length; i++) {\n",
       "      var url = js_urls[i];\n",
       "      var element = document.createElement('script');\n",
       "      element.onload = on_load;\n",
       "      element.onerror = on_error;\n",
       "      element.async = false;\n",
       "      element.src = url;\n",
       "      console.debug(\"Bokeh: injecting script tag for BokehJS library: \", url);\n",
       "      document.head.appendChild(element);\n",
       "    }\n",
       "  };var element = document.getElementById(\"2584\");\n",
       "  if (element == null) {\n",
       "    console.error(\"Bokeh: ERROR: autoload.js configured with elementid '2584' but no matching script tag was found. \")\n",
       "    return false;\n",
       "  }\n",
       "\n",
       "  function inject_raw_css(css) {\n",
       "    const element = document.createElement(\"style\");\n",
       "    element.appendChild(document.createTextNode(css));\n",
       "    document.body.appendChild(element);\n",
       "  }\n",
       "\n",
       "  \n",
       "  var js_urls = [\"https://cdn.pydata.org/bokeh/release/bokeh-1.4.0.min.js\", \"https://cdn.pydata.org/bokeh/release/bokeh-widgets-1.4.0.min.js\", \"https://cdn.pydata.org/bokeh/release/bokeh-tables-1.4.0.min.js\", \"https://cdn.pydata.org/bokeh/release/bokeh-gl-1.4.0.min.js\"];\n",
       "  var css_urls = [];\n",
       "  \n",
       "\n",
       "  var inline_js = [\n",
       "    function(Bokeh) {\n",
       "      Bokeh.set_log_level(\"info\");\n",
       "    },\n",
       "    function(Bokeh) {\n",
       "    \n",
       "    \n",
       "    }\n",
       "  ];\n",
       "\n",
       "  function run_inline_js() {\n",
       "    \n",
       "    if (root.Bokeh !== undefined || force === true) {\n",
       "      \n",
       "    for (var i = 0; i < inline_js.length; i++) {\n",
       "      inline_js[i].call(root, root.Bokeh);\n",
       "    }\n",
       "    if (force === true) {\n",
       "        display_loaded();\n",
       "      }} else if (Date.now() < root._bokeh_timeout) {\n",
       "      setTimeout(run_inline_js, 100);\n",
       "    } else if (!root._bokeh_failed_load) {\n",
       "      console.log(\"Bokeh: BokehJS failed to load within specified timeout.\");\n",
       "      root._bokeh_failed_load = true;\n",
       "    } else if (force !== true) {\n",
       "      var cell = $(document.getElementById(\"2584\")).parents('.cell').data().cell;\n",
       "      cell.output_area.append_execute_result(NB_LOAD_WARNING)\n",
       "    }\n",
       "\n",
       "  }\n",
       "\n",
       "  if (root._bokeh_is_loading === 0) {\n",
       "    console.debug(\"Bokeh: BokehJS loaded, going straight to plotting\");\n",
       "    run_inline_js();\n",
       "  } else {\n",
       "    load_libs(css_urls, js_urls, function() {\n",
       "      console.debug(\"Bokeh: BokehJS plotting callback run at\", now());\n",
       "      run_inline_js();\n",
       "    });\n",
       "  }\n",
       "}(window));"
      ],
      "application/vnd.bokehjs_load.v0+json": "\n(function(root) {\n  function now() {\n    return new Date();\n  }\n\n  var force = true;\n\n  if (typeof root._bokeh_onload_callbacks === \"undefined\" || force === true) {\n    root._bokeh_onload_callbacks = [];\n    root._bokeh_is_loading = undefined;\n  }\n\n  \n\n  \n  if (typeof (root._bokeh_timeout) === \"undefined\" || force === true) {\n    root._bokeh_timeout = Date.now() + 5000;\n    root._bokeh_failed_load = false;\n  }\n\n  var NB_LOAD_WARNING = {'data': {'text/html':\n     \"<div style='background-color: #fdd'>\\n\"+\n     \"<p>\\n\"+\n     \"BokehJS does not appear to have successfully loaded. If loading BokehJS from CDN, this \\n\"+\n     \"may be due to a slow or bad network connection. Possible fixes:\\n\"+\n     \"</p>\\n\"+\n     \"<ul>\\n\"+\n     \"<li>re-rerun `output_notebook()` to attempt to load from CDN again, or</li>\\n\"+\n     \"<li>use INLINE resources instead, as so:</li>\\n\"+\n     \"</ul>\\n\"+\n     \"<code>\\n\"+\n     \"from bokeh.resources import INLINE\\n\"+\n     \"output_notebook(resources=INLINE)\\n\"+\n     \"</code>\\n\"+\n     \"</div>\"}};\n\n  function display_loaded() {\n    var el = document.getElementById(\"2584\");\n    if (el != null) {\n      el.textContent = \"BokehJS is loading...\";\n    }\n    if (root.Bokeh !== undefined) {\n      if (el != null) {\n        el.textContent = \"BokehJS \" + root.Bokeh.version + \" successfully loaded.\";\n      }\n    } else if (Date.now() < root._bokeh_timeout) {\n      setTimeout(display_loaded, 100)\n    }\n  }\n\n\n  function run_callbacks() {\n    try {\n      root._bokeh_onload_callbacks.forEach(function(callback) {\n        if (callback != null)\n          callback();\n      });\n    } finally {\n      delete root._bokeh_onload_callbacks\n    }\n    console.debug(\"Bokeh: all callbacks have finished\");\n  }\n\n  function load_libs(css_urls, js_urls, callback) {\n    if (css_urls == null) css_urls = [];\n    if (js_urls == null) js_urls = [];\n\n    root._bokeh_onload_callbacks.push(callback);\n    if (root._bokeh_is_loading > 0) {\n      console.debug(\"Bokeh: BokehJS is being loaded, scheduling callback at\", now());\n      return null;\n    }\n    if (js_urls == null || js_urls.length === 0) {\n      run_callbacks();\n      return null;\n    }\n    console.debug(\"Bokeh: BokehJS not loaded, scheduling load and callback at\", now());\n    root._bokeh_is_loading = css_urls.length + js_urls.length;\n\n    function on_load() {\n      root._bokeh_is_loading--;\n      if (root._bokeh_is_loading === 0) {\n        console.debug(\"Bokeh: all BokehJS libraries/stylesheets loaded\");\n        run_callbacks()\n      }\n    }\n\n    function on_error() {\n      console.error(\"failed to load \" + url);\n    }\n\n    for (var i = 0; i < css_urls.length; i++) {\n      var url = css_urls[i];\n      const element = document.createElement(\"link\");\n      element.onload = on_load;\n      element.onerror = on_error;\n      element.rel = \"stylesheet\";\n      element.type = \"text/css\";\n      element.href = url;\n      console.debug(\"Bokeh: injecting link tag for BokehJS stylesheet: \", url);\n      document.body.appendChild(element);\n    }\n\n    for (var i = 0; i < js_urls.length; i++) {\n      var url = js_urls[i];\n      var element = document.createElement('script');\n      element.onload = on_load;\n      element.onerror = on_error;\n      element.async = false;\n      element.src = url;\n      console.debug(\"Bokeh: injecting script tag for BokehJS library: \", url);\n      document.head.appendChild(element);\n    }\n  };var element = document.getElementById(\"2584\");\n  if (element == null) {\n    console.error(\"Bokeh: ERROR: autoload.js configured with elementid '2584' but no matching script tag was found. \")\n    return false;\n  }\n\n  function inject_raw_css(css) {\n    const element = document.createElement(\"style\");\n    element.appendChild(document.createTextNode(css));\n    document.body.appendChild(element);\n  }\n\n  \n  var js_urls = [\"https://cdn.pydata.org/bokeh/release/bokeh-1.4.0.min.js\", \"https://cdn.pydata.org/bokeh/release/bokeh-widgets-1.4.0.min.js\", \"https://cdn.pydata.org/bokeh/release/bokeh-tables-1.4.0.min.js\", \"https://cdn.pydata.org/bokeh/release/bokeh-gl-1.4.0.min.js\"];\n  var css_urls = [];\n  \n\n  var inline_js = [\n    function(Bokeh) {\n      Bokeh.set_log_level(\"info\");\n    },\n    function(Bokeh) {\n    \n    \n    }\n  ];\n\n  function run_inline_js() {\n    \n    if (root.Bokeh !== undefined || force === true) {\n      \n    for (var i = 0; i < inline_js.length; i++) {\n      inline_js[i].call(root, root.Bokeh);\n    }\n    if (force === true) {\n        display_loaded();\n      }} else if (Date.now() < root._bokeh_timeout) {\n      setTimeout(run_inline_js, 100);\n    } else if (!root._bokeh_failed_load) {\n      console.log(\"Bokeh: BokehJS failed to load within specified timeout.\");\n      root._bokeh_failed_load = true;\n    } else if (force !== true) {\n      var cell = $(document.getElementById(\"2584\")).parents('.cell').data().cell;\n      cell.output_area.append_execute_result(NB_LOAD_WARNING)\n    }\n\n  }\n\n  if (root._bokeh_is_loading === 0) {\n    console.debug(\"Bokeh: BokehJS loaded, going straight to plotting\");\n    run_inline_js();\n  } else {\n    load_libs(css_urls, js_urls, function() {\n      console.debug(\"Bokeh: BokehJS plotting callback run at\", now());\n      run_inline_js();\n    });\n  }\n}(window));"
     },
     "metadata": {},
     "output_type": "display_data"
    },
    {
     "data": {
      "text/html": [
       "\n",
       "\n",
       "\n",
       "\n",
       "\n",
       "\n",
       "  <div class=\"bk-root\" id=\"48f7f2af-4ac0-4283-b2e9-9a2ea8beea74\" data-root-id=\"2515\"></div>\n"
      ]
     },
     "metadata": {},
     "output_type": "display_data"
    },
    {
     "data": {
      "application/javascript": [
       "(function(root) {\n",
       "  function embed_document(root) {\n",
       "    \n",
       "  var docs_json = {\"efe4db3e-c54e-435e-9dc3-d2f748d7b7bd\":{\"roots\":{\"references\":[{\"attributes\":{\"below\":[{\"id\":\"2524\",\"type\":\"MercatorAxis\"}],\"center\":[{\"id\":\"2532\",\"type\":\"Grid\"},{\"id\":\"2541\",\"type\":\"Grid\"}],\"left\":[{\"id\":\"2533\",\"type\":\"MercatorAxis\"}],\"plot_height\":900,\"plot_width\":1200,\"renderers\":[{\"id\":\"2551\",\"type\":\"TileRenderer\"},{\"id\":\"2564\",\"type\":\"GlyphRenderer\"},{\"id\":\"2570\",\"type\":\"GlyphRenderer\"},{\"id\":\"2576\",\"type\":\"GlyphRenderer\"},{\"id\":\"2582\",\"type\":\"GlyphRenderer\"}],\"title\":{\"id\":\"2553\",\"type\":\"Title\"},\"toolbar\":{\"id\":\"2546\",\"type\":\"Toolbar\"},\"x_range\":{\"id\":\"2516\",\"type\":\"Range1d\"},\"x_scale\":{\"id\":\"2520\",\"type\":\"LinearScale\"},\"y_range\":{\"id\":\"2518\",\"type\":\"Range1d\"},\"y_scale\":{\"id\":\"2522\",\"type\":\"LinearScale\"}},\"id\":\"2515\",\"subtype\":\"Figure\",\"type\":\"Plot\"},{\"attributes\":{\"formatter\":{\"id\":\"2536\",\"type\":\"MercatorTickFormatter\"},\"ticker\":{\"id\":\"2534\",\"type\":\"MercatorTicker\"},\"visible\":false},\"id\":\"2533\",\"type\":\"MercatorAxis\"},{\"attributes\":{\"grid_line_color\":null,\"ticker\":{\"id\":\"2525\",\"type\":\"MercatorTicker\"}},\"id\":\"2532\",\"type\":\"Grid\"},{\"attributes\":{\"source\":{\"id\":\"2572\",\"type\":\"ColumnDataSource\"}},\"id\":\"2577\",\"type\":\"CDSView\"},{\"attributes\":{\"fill_alpha\":{\"value\":0.5},\"fill_color\":{\"value\":\"red\"},\"line_alpha\":{\"value\":0.5},\"line_color\":{\"value\":\"red\"},\"size\":{\"units\":\"screen\",\"value\":15},\"x\":{\"value\":2851693.6595494477},\"y\":{\"value\":5726046.314255435}},\"id\":\"2573\",\"type\":\"Circle\"},{\"attributes\":{\"fill_alpha\":{\"value\":0.5},\"fill_color\":{\"value\":\"red\"},\"line_alpha\":{\"value\":0.5},\"line_color\":{\"value\":\"red\"},\"size\":{\"units\":\"screen\",\"value\":15},\"x\":{\"value\":2849667.64481701},\"y\":{\"value\":5724182.990737317}},\"id\":\"2561\",\"type\":\"Circle\"},{\"attributes\":{\"active_drag\":\"auto\",\"active_inspect\":\"auto\",\"active_multi\":null,\"active_scroll\":{\"id\":\"2543\",\"type\":\"WheelZoomTool\"},\"active_tap\":\"auto\",\"tools\":[{\"id\":\"2542\",\"type\":\"PanTool\"},{\"id\":\"2543\",\"type\":\"WheelZoomTool\"},{\"id\":\"2544\",\"type\":\"HoverTool\"},{\"id\":\"2545\",\"type\":\"ResetTool\"}]},\"id\":\"2546\",\"type\":\"Toolbar\"},{\"attributes\":{\"callback\":null,\"data\":{},\"selected\":{\"id\":\"2661\",\"type\":\"Selection\"},\"selection_policy\":{\"id\":\"2662\",\"type\":\"UnionRenderers\"}},\"id\":\"2560\",\"type\":\"ColumnDataSource\"},{\"attributes\":{\"fill_alpha\":{\"value\":0.1},\"fill_color\":{\"value\":\"#1f77b4\"},\"line_alpha\":{\"value\":0.1},\"line_color\":{\"value\":\"#1f77b4\"},\"size\":{\"units\":\"screen\",\"value\":15},\"x\":{\"value\":2851693.6595494477},\"y\":{\"value\":5726046.314255435}},\"id\":\"2574\",\"type\":\"Circle\"},{\"attributes\":{},\"id\":\"2545\",\"type\":\"ResetTool\"},{\"attributes\":{\"fill_alpha\":{\"value\":0.5},\"fill_color\":{\"value\":\"red\"},\"line_alpha\":{\"value\":0.5},\"line_color\":{\"value\":\"red\"},\"size\":{\"units\":\"screen\",\"value\":15},\"x\":{\"value\":2854387.591226645},\"y\":{\"value\":5733344.097884892}},\"id\":\"2579\",\"type\":\"Circle\"},{\"attributes\":{},\"id\":\"2666\",\"type\":\"UnionRenderers\"},{\"attributes\":{},\"id\":\"2542\",\"type\":\"PanTool\"},{\"attributes\":{\"callback\":null,\"data\":{},\"selected\":{\"id\":\"2667\",\"type\":\"Selection\"},\"selection_policy\":{\"id\":\"2668\",\"type\":\"UnionRenderers\"}},\"id\":\"2578\",\"type\":\"ColumnDataSource\"},{\"attributes\":{\"dimension\":\"lat\"},\"id\":\"2534\",\"type\":\"MercatorTicker\"},{\"attributes\":{\"data_source\":{\"id\":\"2572\",\"type\":\"ColumnDataSource\"},\"glyph\":{\"id\":\"2573\",\"type\":\"Circle\"},\"hover_glyph\":{\"id\":\"2575\",\"type\":\"Circle\"},\"muted_glyph\":null,\"nonselection_glyph\":{\"id\":\"2574\",\"type\":\"Circle\"},\"selection_glyph\":null,\"view\":{\"id\":\"2577\",\"type\":\"CDSView\"}},\"id\":\"2576\",\"type\":\"GlyphRenderer\"},{\"attributes\":{\"fill_color\":{\"value\":\"green\"},\"line_color\":{\"value\":\"green\"},\"size\":{\"units\":\"screen\",\"value\":15},\"x\":{\"value\":2849667.64481701},\"y\":{\"value\":5724182.990737317}},\"id\":\"2563\",\"type\":\"Circle\"},{\"attributes\":{\"dimension\":1,\"grid_line_color\":null,\"ticker\":{\"id\":\"2534\",\"type\":\"MercatorTicker\"}},\"id\":\"2541\",\"type\":\"Grid\"},{\"attributes\":{\"fill_color\":{\"value\":\"green\"},\"line_color\":{\"value\":\"green\"},\"size\":{\"units\":\"screen\",\"value\":15},\"x\":{\"value\":2851693.6595494477},\"y\":{\"value\":5726046.314255435}},\"id\":\"2575\",\"type\":\"Circle\"},{\"attributes\":{\"dimension\":\"lat\"},\"id\":\"2536\",\"type\":\"MercatorTickFormatter\"},{\"attributes\":{},\"id\":\"2668\",\"type\":\"UnionRenderers\"},{\"attributes\":{},\"id\":\"2664\",\"type\":\"UnionRenderers\"},{\"attributes\":{\"data_source\":{\"id\":\"2578\",\"type\":\"ColumnDataSource\"},\"glyph\":{\"id\":\"2579\",\"type\":\"Circle\"},\"hover_glyph\":{\"id\":\"2581\",\"type\":\"Circle\"},\"muted_glyph\":null,\"nonselection_glyph\":{\"id\":\"2580\",\"type\":\"Circle\"},\"selection_glyph\":null,\"view\":{\"id\":\"2583\",\"type\":\"CDSView\"}},\"id\":\"2582\",\"type\":\"GlyphRenderer\"},{\"attributes\":{},\"id\":\"2665\",\"type\":\"Selection\"},{\"attributes\":{\"fill_alpha\":{\"value\":0.1},\"fill_color\":{\"value\":\"#1f77b4\"},\"line_alpha\":{\"value\":0.1},\"line_color\":{\"value\":\"#1f77b4\"},\"size\":{\"units\":\"screen\",\"value\":15},\"x\":{\"value\":2854387.591226645},\"y\":{\"value\":5733344.097884892}},\"id\":\"2580\",\"type\":\"Circle\"},{\"attributes\":{\"fill_alpha\":{\"value\":0.1},\"fill_color\":{\"value\":\"#1f77b4\"},\"line_alpha\":{\"value\":0.1},\"line_color\":{\"value\":\"#1f77b4\"},\"size\":{\"units\":\"screen\",\"value\":15},\"x\":{\"value\":2845782.594588325},\"y\":{\"value\":5725042.9378345795}},\"id\":\"2568\",\"type\":\"Circle\"},{\"attributes\":{\"fill_color\":{\"value\":\"green\"},\"line_color\":{\"value\":\"green\"},\"size\":{\"units\":\"screen\",\"value\":15},\"x\":{\"value\":2854387.591226645},\"y\":{\"value\":5733344.097884892}},\"id\":\"2581\",\"type\":\"Circle\"},{\"attributes\":{\"callback\":null,\"data\":{},\"selected\":{\"id\":\"2663\",\"type\":\"Selection\"},\"selection_policy\":{\"id\":\"2664\",\"type\":\"UnionRenderers\"}},\"id\":\"2566\",\"type\":\"ColumnDataSource\"},{\"attributes\":{},\"id\":\"2661\",\"type\":\"Selection\"},{\"attributes\":{\"callback\":null,\"end\":5733344,\"start\":5724182},\"id\":\"2518\",\"type\":\"Range1d\"},{\"attributes\":{\"source\":{\"id\":\"2560\",\"type\":\"ColumnDataSource\"}},\"id\":\"2565\",\"type\":\"CDSView\"},{\"attributes\":{\"source\":{\"id\":\"2578\",\"type\":\"ColumnDataSource\"}},\"id\":\"2583\",\"type\":\"CDSView\"},{\"attributes\":{\"fill_color\":{\"value\":\"green\"},\"line_color\":{\"value\":\"green\"},\"size\":{\"units\":\"screen\",\"value\":15},\"x\":{\"value\":2845782.594588325},\"y\":{\"value\":5725042.9378345795}},\"id\":\"2569\",\"type\":\"Circle\"},{\"attributes\":{\"fill_alpha\":{\"value\":0.5},\"fill_color\":{\"value\":\"red\"},\"line_alpha\":{\"value\":0.5},\"line_color\":{\"value\":\"red\"},\"size\":{\"units\":\"screen\",\"value\":15},\"x\":{\"value\":2845782.594588325},\"y\":{\"value\":5725042.9378345795}},\"id\":\"2567\",\"type\":\"Circle\"},{\"attributes\":{\"source\":{\"id\":\"2566\",\"type\":\"ColumnDataSource\"}},\"id\":\"2571\",\"type\":\"CDSView\"},{\"attributes\":{\"attribution\":\"Map tiles by <a href=\\\"https://stamen.com\\\">Stamen Design</a>, under <a href=\\\"https://creativecommons.org/licenses/by/3.0\\\">CC BY 3.0</a>. Data by <a href=\\\"https://openstreetmap.org\\\">OpenStreetMap</a>, under <a href=\\\"https://creativecommons.org/licenses/by-sa/3.0\\\">CC BY SA</a>.\",\"url\":\"http://tile.stamen.com/terrain/{Z}/{X}/{Y}.png\"},\"id\":\"2514\",\"type\":\"WMTSTileSource\"},{\"attributes\":{},\"id\":\"2663\",\"type\":\"Selection\"},{\"attributes\":{\"data_source\":{\"id\":\"2560\",\"type\":\"ColumnDataSource\"},\"glyph\":{\"id\":\"2561\",\"type\":\"Circle\"},\"hover_glyph\":{\"id\":\"2563\",\"type\":\"Circle\"},\"muted_glyph\":null,\"nonselection_glyph\":{\"id\":\"2562\",\"type\":\"Circle\"},\"selection_glyph\":null,\"view\":{\"id\":\"2565\",\"type\":\"CDSView\"}},\"id\":\"2564\",\"type\":\"GlyphRenderer\"},{\"attributes\":{\"callback\":null,\"end\":2864387,\"start\":2839667},\"id\":\"2516\",\"type\":\"Range1d\"},{\"attributes\":{\"dimension\":\"lon\"},\"id\":\"2527\",\"type\":\"MercatorTickFormatter\"},{\"attributes\":{\"text\":\"\"},\"id\":\"2553\",\"type\":\"Title\"},{\"attributes\":{\"callback\":null,\"data\":{},\"selected\":{\"id\":\"2665\",\"type\":\"Selection\"},\"selection_policy\":{\"id\":\"2666\",\"type\":\"UnionRenderers\"}},\"id\":\"2572\",\"type\":\"ColumnDataSource\"},{\"attributes\":{\"tile_source\":{\"id\":\"2514\",\"type\":\"WMTSTileSource\"}},\"id\":\"2551\",\"type\":\"TileRenderer\"},{\"attributes\":{},\"id\":\"2522\",\"type\":\"LinearScale\"},{\"attributes\":{\"fill_alpha\":{\"value\":0.1},\"fill_color\":{\"value\":\"#1f77b4\"},\"line_alpha\":{\"value\":0.1},\"line_color\":{\"value\":\"#1f77b4\"},\"size\":{\"units\":\"screen\",\"value\":15},\"x\":{\"value\":2849667.64481701},\"y\":{\"value\":5724182.990737317}},\"id\":\"2562\",\"type\":\"Circle\"},{\"attributes\":{},\"id\":\"2667\",\"type\":\"Selection\"},{\"attributes\":{\"callback\":null},\"id\":\"2544\",\"type\":\"HoverTool\"},{\"attributes\":{},\"id\":\"2520\",\"type\":\"LinearScale\"},{\"attributes\":{},\"id\":\"2662\",\"type\":\"UnionRenderers\"},{\"attributes\":{\"formatter\":{\"id\":\"2527\",\"type\":\"MercatorTickFormatter\"},\"ticker\":{\"id\":\"2525\",\"type\":\"MercatorTicker\"},\"visible\":false},\"id\":\"2524\",\"type\":\"MercatorAxis\"},{\"attributes\":{},\"id\":\"2543\",\"type\":\"WheelZoomTool\"},{\"attributes\":{\"data_source\":{\"id\":\"2566\",\"type\":\"ColumnDataSource\"},\"glyph\":{\"id\":\"2567\",\"type\":\"Circle\"},\"hover_glyph\":{\"id\":\"2569\",\"type\":\"Circle\"},\"muted_glyph\":null,\"nonselection_glyph\":{\"id\":\"2568\",\"type\":\"Circle\"},\"selection_glyph\":null,\"view\":{\"id\":\"2571\",\"type\":\"CDSView\"}},\"id\":\"2570\",\"type\":\"GlyphRenderer\"},{\"attributes\":{\"dimension\":\"lon\"},\"id\":\"2525\",\"type\":\"MercatorTicker\"}],\"root_ids\":[\"2515\"]},\"title\":\"Bokeh Application\",\"version\":\"1.4.0\"}};\n",
       "  var render_items = [{\"docid\":\"efe4db3e-c54e-435e-9dc3-d2f748d7b7bd\",\"roots\":{\"2515\":\"48f7f2af-4ac0-4283-b2e9-9a2ea8beea74\"}}];\n",
       "  root.Bokeh.embed.embed_items_notebook(docs_json, render_items);\n",
       "\n",
       "  }\n",
       "  if (root.Bokeh !== undefined) {\n",
       "    embed_document(root);\n",
       "  } else {\n",
       "    var attempts = 0;\n",
       "    var timer = setInterval(function(root) {\n",
       "      if (root.Bokeh !== undefined) {\n",
       "        clearInterval(timer);\n",
       "        embed_document(root);\n",
       "      } else {\n",
       "        attempts++;\n",
       "        if (attempts > 100) {\n",
       "          clearInterval(timer);\n",
       "          console.log(\"Bokeh: ERROR: Unable to run BokehJS code because BokehJS library is missing\");\n",
       "        }\n",
       "      }\n",
       "    }, 10, root)\n",
       "  }\n",
       "})(window);"
      ],
      "application/vnd.bokehjs_exec.v0+json": ""
     },
     "metadata": {
      "application/vnd.bokehjs_exec.v0+json": {
       "id": "2515"
      }
     },
     "output_type": "display_data"
    }
   ],
   "source": [
    "from bokeh.plotting import figure, show, output_file, output_notebook\n",
    "from bokeh.tile_providers import get_provider, Vendors\n",
    "from bokeh.models.tools import WheelZoomTool\n",
    "from pyproj import Proj, transform\n",
    "import pandas as pd\n",
    "\n",
    "urad_sensors = [(45.6484, 25.5990), (45.6538, 25.5641), (45.6601, 25.6172), (45.7059, 25.6414)]\n",
    "\n",
    "def LatLon_to_EN(lat, lon):\n",
    "    try:\n",
    "      easting, northing = transform( Proj('epsg:4326'), Proj('epsg:3857'), lat, lon) # from WGS-84 to Web Mercator Easting/Northing\n",
    "      return easting, northing\n",
    "    except:\n",
    "      return None, None\n",
    "\n",
    "urad_coordinates_EN = [LatLon_to_EN(urad_sensor[0], urad_sensor[1]) for urad_sensor in urad_sensors]\n",
    "tile_provider = get_provider(Vendors.STAMEN_TERRAIN)\n",
    "\n",
    "x_range=(2839667, 2864387)\n",
    "y_range=(5724182, 5733344)\n",
    "\n",
    "#Vendors.\n",
    "# range bounds supplied in web mercator coordinates\n",
    "p = figure(tools='pan,wheel_zoom,hover, reset', plot_width=1200, plot_height=900, x_range=x_range, y_range=y_range,x_axis_type=\"mercator\", y_axis_type=\"mercator\")\n",
    "\n",
    "p.axis.visible = False\n",
    "p.xgrid.grid_line_color = None\n",
    "p.ygrid.grid_line_color = None\n",
    "\n",
    "p.add_tile(tile_provider)\n",
    "p.toolbar.active_scroll = p.select_one(WheelZoomTool)\n",
    "\n",
    "for urad_sensor in urad_coordinates_EN:\n",
    "    p.circle(x=urad_sensor[0], y=urad_sensor[1], size=15, color=\"red\", alpha=0.5, hover_color=\"green\")\n",
    "\n",
    "output_notebook()\n",
    "#output_file(\"index.html\", title = 'Brasov Air Pollution')\n",
    "\n",
    "show(p)"
   ]
  },
  {
   "cell_type": "code",
   "execution_count": 2,
   "metadata": {},
   "outputs": [
    {
     "data": {
      "text/plain": [
       "[(2849667.64481701, 5724182.990737317),\n",
       " (2845782.594588325, 5725042.9378345795),\n",
       " (2851693.6595494477, 5726046.314255435),\n",
       " (2854387.591226645, 5733344.097884892)]"
      ]
     },
     "execution_count": 2,
     "metadata": {},
     "output_type": "execute_result"
    }
   ],
   "source": [
    "urad_coordinates_EN"
   ]
  },
  {
   "cell_type": "code",
   "execution_count": 4,
   "metadata": {},
   "outputs": [],
   "source": [
    "x_range=(2839667, 2864387)\n",
    "y_range=(5724182, 5733344)"
   ]
  },
  {
   "cell_type": "code",
   "execution_count": 5,
   "metadata": {},
   "outputs": [
    {
     "data": {
      "text/plain": [
       "(2819500, 2859900)"
      ]
     },
     "execution_count": 5,
     "metadata": {},
     "output_type": "execute_result"
    }
   ],
   "source": [
    "x_range"
   ]
  },
  {
   "cell_type": "code",
   "execution_count": 6,
   "metadata": {},
   "outputs": [
    {
     "data": {
      "text/plain": [
       "(5723000, 5733000)"
      ]
     },
     "execution_count": 6,
     "metadata": {},
     "output_type": "execute_result"
    }
   ],
   "source": [
    "y_range"
   ]
  },
  {
   "cell_type": "code",
   "execution_count": null,
   "metadata": {},
   "outputs": [],
   "source": []
  }
 ],
 "metadata": {
  "kernelspec": {
   "display_name": "Python 3",
   "language": "python",
   "name": "python3"
  },
  "language_info": {
   "codemirror_mode": {
    "name": "ipython",
    "version": 3
   },
   "file_extension": ".py",
   "mimetype": "text/x-python",
   "name": "python",
   "nbconvert_exporter": "python",
   "pygments_lexer": "ipython3",
   "version": "3.7.2"
  }
 },
 "nbformat": 4,
 "nbformat_minor": 4
}
